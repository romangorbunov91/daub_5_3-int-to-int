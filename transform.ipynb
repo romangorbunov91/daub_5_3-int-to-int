{
 "cells": [
  {
   "cell_type": "markdown",
   "id": "aa47fd2a",
   "metadata": {},
   "source": [
    "# Daub 5/3 integer-to-integer system"
   ]
  },
  {
   "cell_type": "code",
   "execution_count": 18,
   "id": "6db9f708",
   "metadata": {},
   "outputs": [],
   "source": [
    "import numpy as np\n",
    "import matplotlib.pyplot as plt\n",
    "import matplotlib.ticker as ticker"
   ]
  },
  {
   "cell_type": "markdown",
   "id": "d2fef9a7",
   "metadata": {},
   "source": [
    "Импорт пользовательских функций."
   ]
  },
  {
   "cell_type": "code",
   "execution_count": 19,
   "id": "864bf95e",
   "metadata": {},
   "outputs": [],
   "source": [
    "from Functions.user_functions import indx_even\n",
    "from Functions.daub_5_3 import daub_5_3\n",
    "from Functions.daub_5_3_lift import daub_5_3_lift\n",
    "from Functions.idaub_5_3_lift import idaub_5_3_lift\n",
    "from Functions.daub_5_3_lift_2D import daub_5_3_lift_2D\n",
    "from Functions.idaub_5_3_lift_2D import idaub_5_3_lift_2D"
   ]
  },
  {
   "cell_type": "code",
   "execution_count": 20,
   "id": "974a847c",
   "metadata": {},
   "outputs": [],
   "source": [
    "f = np.random.randint(low=-10, high=11, size=8)\n",
    "N = len(f)\n",
    "d = [0] * (N//2)\n",
    "a = [0] * (N//2)"
   ]
  },
  {
   "cell_type": "markdown",
   "id": "421f5198",
   "metadata": {},
   "source": [
    "### Исследование коэффициентов ${d}$"
   ]
  },
  {
   "cell_type": "code",
   "execution_count": 21,
   "id": "f27a9e6c",
   "metadata": {},
   "outputs": [],
   "source": [
    "# Функция вычисления коэффициентов флуктуации.\n",
    "def d_func(k, f, N, int_flag):\n",
    "    if int_flag:\n",
    "        return f[indx_even(2*k+1,N)] - (f[indx_even(2*k,N)] + f[indx_even(2*k+2,N)]) //2\n",
    "    else:\n",
    "        return f[indx_even(2*k+1,N)] - (f[indx_even(2*k,N)] + f[indx_even(2*k+2,N)]) /2"
   ]
  },
  {
   "cell_type": "code",
   "execution_count": 22,
   "id": "25328f6a",
   "metadata": {},
   "outputs": [
    {
     "data": {
      "image/png": "[encoded data removed]",
      "text/plain": [
       "<Figure size 1200x300 with 1 Axes>"
      ]
     },
     "metadata": {},
     "output_type": "display_data"
    }
   ],
   "source": [
    "n_gr = []\n",
    "d_gr = []\n",
    "for k in range(-N,2*N):\n",
    "    n_gr.append(k)\n",
    "    d_gr.append(d_func(k, f, N, int_flag=False))\n",
    "n_gr_N = []\n",
    "d_gr_N = []\n",
    "\n",
    "for k in range(N):\n",
    "    n_gr_N.append(k)\n",
    "    d_gr_N.append(d_func(k, f, N, int_flag=False))\n",
    "    \n",
    "fig, ax = plt.subplots()\n",
    "fig.set_figheight(3)\n",
    "fig.set_figwidth(12)\n",
    "ax.plot(n_gr, d_gr, 'o')\n",
    "ax.plot(n_gr_N, d_gr_N, 'o')\n",
    "\n",
    "# Force integer ticks on x-axis\n",
    "ax.xaxis.set_major_locator(ticker.MaxNLocator(integer=True))\n",
    "plt.legend(['$k \\in \\mathbb{Z}$','k=[0;(N-1)]'])\n",
    "plt.title('Симметрия коэффициентов флуктуаций' + ' (N=' + str(N) + ')')\n",
    "plt.xlabel('k')\n",
    "plt.ylabel('$d_k$')\n",
    "plt.grid(True)\n",
    "plt.savefig('readme_img/d_symmetry.png', bbox_inches='tight')\n",
    "plt.show()"
   ]
  },
  {
   "cell_type": "markdown",
   "id": "22cda11b",
   "metadata": {},
   "source": [
    "Отсюда вывод: ${d_{-1} = d_0}$."
   ]
  },
  {
   "cell_type": "markdown",
   "id": "db5b29f2",
   "metadata": {},
   "source": [
    "## Прямое преобразование"
   ]
  },
  {
   "cell_type": "code",
   "execution_count": 23,
   "id": "478ce454",
   "metadata": {},
   "outputs": [
    {
     "name": "stdout",
     "output_type": "stream",
     "text": [
      "a [-8.5, 3.625, 8.375, -1.25]\n",
      "d [3.0, 3.5, 10.0, 5.0]\n"
     ]
    }
   ],
   "source": [
    "for k in range(N//2):\n",
    "    d[k] = f[indx_even(2*k+1,N)] - (f[indx_even(2*k,N)] + f[indx_even(2*k+2,N)])/2\n",
    "    if k == 0:\n",
    "        a[k] = f[indx_even(2*k,N)] + d[k] /2\n",
    "    else:\n",
    "        a[k] = f[indx_even(2*k,N)] + (d[k-1] + d[k]) /4\n",
    "    #a[k] = -1/8*(f[indx_even(2*k-2,N)] + f[indx_even(2*k+2,N)]) + 1/4*(f[indx_even(2*k-1,N)] + f[indx_even(2*k+1,N)]) + 3/4*f[indx_even(2*k,N)]\n",
    "print('a', a)\n",
    "print('d', d)"
   ]
  },
  {
   "cell_type": "markdown",
   "id": "ba3d6602",
   "metadata": {},
   "source": [
    "## Обратное преобразование"
   ]
  },
  {
   "cell_type": "code",
   "execution_count": 24,
   "id": "6540ec96",
   "metadata": {},
   "outputs": [
    {
     "name": "stdout",
     "output_type": "stream",
     "text": [
      "Reconstruction: [-10.0, -1.0, 2.0, 7.0, 5.0, 10.0, -5.0, 0.0]\n",
      "Original: [-10  -1   2   7   5  10  -5   0]\n",
      "Difference: [0. 0. 0. 0. 0. 0. 0. 0.]\n"
     ]
    }
   ],
   "source": [
    "f_rec = [0] * N\n",
    "# Odd values.\n",
    "for k in range(N//2):\n",
    "    if k == 0:\n",
    "        f_rec[2*k] = a[k] - d[k] /2\n",
    "    else:\n",
    "        f_rec[2*k] = a[k] - (d[k-1] + d[k]) /4\n",
    "\n",
    "# Even values.\n",
    "for k in range(N//2):\n",
    "    f_rec[2*k+1] = d[k] + (f[2*k] + f[indx_even(2*k+2,N)])/2\n",
    "print('Reconstruction:', f_rec)\n",
    "print('Original:', f)\n",
    "print('Difference:', f-f_rec)"
   ]
  },
  {
   "cell_type": "markdown",
   "id": "80b3cc60",
   "metadata": {},
   "source": [
    "## Прямое и обратное преобразование при помощи матричных операций"
   ]
  },
  {
   "cell_type": "code",
   "execution_count": 25,
   "id": "47c270b2",
   "metadata": {},
   "outputs": [
    {
     "name": "stdout",
     "output_type": "stream",
     "text": [
      "Wavelet coefficients: [-8.5, 3.625, 8.375, -1.25, 3.0, 3.5, 10.0, 5.0]\n",
      "Reconstruction: [-10.0, -1.0, 2.0, 7.0, 5.0, 10.0, -5.0, 0.0]\n",
      "Original: [-10  -1   2   7   5  10  -5   0]\n",
      "Difference: [0. 0. 0. 0. 0. 0. 0. 0.]\n"
     ]
    }
   ],
   "source": [
    "Mdir = np.matrix(np.concatenate(daub_5_3(N), axis = 0))\n",
    "tr = np.matrix(f)*(Mdir.T)\n",
    "Mrev = np.linalg.inv(Mdir).T\n",
    "print('Wavelet coefficients:', tr.tolist()[0])\n",
    "print('Reconstruction:', (tr * Mrev).tolist()[0])\n",
    "print('Original:', f)\n",
    "print('Difference:', f-(tr * Mrev).tolist()[0])"
   ]
  },
  {
   "cell_type": "markdown",
   "id": "8db114f7",
   "metadata": {},
   "source": [
    "## Целочисленные преобразования"
   ]
  },
  {
   "cell_type": "markdown",
   "id": "708078ff",
   "metadata": {},
   "source": [
    "Созданы функции lifting-преобразования."
   ]
  },
  {
   "cell_type": "code",
   "execution_count": 26,
   "id": "c2fabd6f",
   "metadata": {},
   "outputs": [
    {
     "name": "stdout",
     "output_type": "stream",
     "text": [
      "[-8.5, 3.625, 8.375, -1.25, 3.0, 3.5, 10.0, 5.0]\n",
      "[-8, 4, 8, -1, 3, 3, 10, 5]\n"
     ]
    }
   ],
   "source": [
    "# float-преобразование.\n",
    "coeff_float = daub_5_3_lift(f, int_flag=False)\n",
    "print(coeff_float)\n",
    "\n",
    "# int-преобразование.\n",
    "coeff_int = daub_5_3_lift(f, int_flag=True)\n",
    "print(coeff_int)"
   ]
  },
  {
   "cell_type": "markdown",
   "id": "0d6608fb",
   "metadata": {},
   "source": [
    "Обратное преобразование, также по lifting-схеме."
   ]
  },
  {
   "cell_type": "code",
   "execution_count": 28,
   "id": "b9ded8a4",
   "metadata": {},
   "outputs": [
    {
     "name": "stdout",
     "output_type": "stream",
     "text": [
      "float64\n",
      "[-10.0, -1.0, 2.0, 7.0, 5.0, 10.0, -5.0, 0.0]\n",
      "int32\n",
      "[-10, -1, 2, 7, 5, 10, -5, 0]\n",
      "Difference: [0.0, 0.0, 0.0, 0.0, 0.0, 0.0, 0.0, 0.0]\n"
     ]
    }
   ],
   "source": [
    "# float-преобразование.\n",
    "f_float = idaub_5_3_lift(coeff_float, int_flag=False)\n",
    "print(np.array(f_float).dtype)\n",
    "print(f_float)\n",
    "\n",
    "# int-преобразование.\n",
    "f_int = idaub_5_3_lift(coeff_int, int_flag=True)\n",
    "print(np.array(f_int).dtype)\n",
    "print(f_int)\n",
    "\n",
    "print('Difference:', [a - b for a, b in zip(f_float, f_int)])"
   ]
  },
  {
   "cell_type": "markdown",
   "id": "bdf8b505",
   "metadata": {},
   "source": [
    "## 2D-преобразование"
   ]
  },
  {
   "cell_type": "markdown",
   "id": "bb060a85",
   "metadata": {},
   "source": [
    "Формируем двумерный массив."
   ]
  },
  {
   "cell_type": "code",
   "execution_count": null,
   "id": "c772f781",
   "metadata": {},
   "outputs": [
    {
     "name": "stdout",
     "output_type": "stream",
     "text": [
      "[[  1  -8   6  -6  -8   3  -2   4]\n",
      " [ -8  -7  -5   9   6   1   6   6]\n",
      " [ -3   5   0  -8 -10  -6   8  -5]\n",
      " [ 10   9  -9   7  -7   8   6   0]\n",
      " [  0   1   8  -5  -7   1  -3   0]\n",
      " [  9  -2   6  10  -8  -4  -2   3]\n",
      " [ -3  -5   6  -2  -6   2   6  10]\n",
      " [ -9  -3  -2   1   0  -9   2   0]\n",
      " [  5   1  -1  -8  -8   9  -2   5]\n",
      " [ -4  -8   0  -3   2  -6  -5   7]]\n"
     ]
    }
   ],
   "source": [
    "g = np.random.randint(low=-10, high=11, size=10*8).reshape(10,8)\n",
    "print(g)"
   ]
  },
  {
   "cell_type": "markdown",
   "id": "1dbdc1df",
   "metadata": {},
   "source": [
    "### Прямое преобразование"
   ]
  },
  {
   "cell_type": "code",
   "execution_count": null,
   "id": "7d65bff0",
   "metadata": {},
   "outputs": [
    {
     "name": "stdout",
     "output_type": "stream",
     "text": [
      "float64\n",
      "[[  3.5        4.875    -14.125     -3.25     -11.       -13.5\n",
      "   13.         6.      ]\n",
      " [ -2.75       3.9375   -14.875     -2.1875     2.5      -14.75\n",
      "   -6.75     -10.      ]\n",
      " [-10.75       4.25      -3.8125    -3.8125    -2.5      -18.5\n",
      "    1.25       3.5     ]\n",
      " [ -4.5        1.125     -2.5        8.25      -3.        -8.5\n",
      "    6.5        2.5     ]\n",
      " [ 11.875     -0.4375    -4.3125     5.3125     0.75      -2.5\n",
      "   21.25       2.      ]\n",
      " [ -8.0625    -0.796875  -0.375      3.390625  -2.625      1.4375\n",
      "   -3.4375    -1.      ]\n",
      " [ 10.875     -1.078125  -5.796875   5.125      8.5        6.6875\n",
      "    7.125     -7.625   ]\n",
      " [  0.4375     7.71875   -6.578125   0.609375 -10.875      4.25\n",
      "    2.9375     6.5     ]\n",
      " [ -5.90625   -0.703125  -3.703125   2.390625   1.9375    -0.75\n",
      "   -3.0625    -0.875   ]\n",
      " [ -1.0625    -2.71875   -2.28125   -0.46875   -5.625     -5.25\n",
      "    6.125     13.      ]]\n"
     ]
    }
   ],
   "source": [
    "# float-преобразование.\n",
    "coeff_2D_float = daub_5_3_lift_2D(g, int_flag=False)\n",
    "print(coeff_2D_float.dtype)\n",
    "print(coeff_2D_float)"
   ]
  },
  {
   "cell_type": "code",
   "execution_count": null,
   "id": "c7f6a497",
   "metadata": {},
   "outputs": [
    {
     "name": "stdout",
     "output_type": "stream",
     "text": [
      "int32\n",
      "[[  3   5 -14  -3 -11 -13  13   6]\n",
      " [ -3   4 -15  -2   2 -15  -7 -10]\n",
      " [-10   4  -4  -5  -2 -19   1   3]\n",
      " [ -4   1  -3   8  -3  -9   6   2]\n",
      " [ 12  -1  -4   5   1  -3  21   2]\n",
      " [ -8  -1   0   4  -3   1  -3  -1]\n",
      " [ 11  -1  -6   5   8   7   7  -8]\n",
      " [  1   7  -7   1 -11   4   3   6]\n",
      " [ -6  -1  -4   2   2  -1  -3  -1]\n",
      " [ -1  -2  -2   0  -5  -5   6  13]]\n"
     ]
    }
   ],
   "source": [
    "# int-преобразование.\n",
    "coeff_2D_int = daub_5_3_lift_2D(g, int_flag=True)\n",
    "print(coeff_2D_int.dtype)\n",
    "print(coeff_2D_int)"
   ]
  },
  {
   "cell_type": "markdown",
   "id": "14b59d65",
   "metadata": {},
   "source": [
    "### Обратное преобразование"
   ]
  },
  {
   "cell_type": "code",
   "execution_count": null,
   "id": "f62a0a3a",
   "metadata": {},
   "outputs": [
    {
     "name": "stdout",
     "output_type": "stream",
     "text": [
      "[[  1.  -8.   6.  -6.  -8.   3.  -2.   4.]\n",
      " [ -8.  -7.  -5.   9.   6.   1.   6.   6.]\n",
      " [ -3.   5.   0.  -8. -10.  -6.   8.  -5.]\n",
      " [ 10.   9.  -9.   7.  -7.   8.   6.   0.]\n",
      " [  0.   1.   8.  -5.  -7.   1.  -3.   0.]\n",
      " [  9.  -2.   6.  10.  -8.  -4.  -2.   3.]\n",
      " [ -3.  -5.   6.  -2.  -6.   2.   6.  10.]\n",
      " [ -9.  -3.  -2.   1.   0.  -9.   2.   0.]\n",
      " [  5.   1.  -1.  -8.  -8.   9.  -2.   5.]\n",
      " [ -4.  -8.   0.  -3.   2.  -6.  -5.   7.]]\n",
      "Difference (sum): 0.0\n"
     ]
    }
   ],
   "source": [
    "g_float = idaub_5_3_lift_2D(coeff_2D_float, int_flag=False)\n",
    "print(g_float)\n",
    "print('Difference (sum):', np.sum(g-g_float))"
   ]
  },
  {
   "cell_type": "code",
   "execution_count": null,
   "id": "9d396fa5",
   "metadata": {},
   "outputs": [
    {
     "name": "stdout",
     "output_type": "stream",
     "text": [
      "[[  1  -8   6  -6  -8   3  -2   4]\n",
      " [ -8  -7  -5   9   6   1   6   6]\n",
      " [ -3   5   0  -8 -10  -6   8  -5]\n",
      " [ 10   9  -9   7  -7   8   6   0]\n",
      " [  0   1   8  -5  -7   1  -3   0]\n",
      " [  9  -2   6  10  -8  -4  -2   3]\n",
      " [ -3  -5   6  -2  -6   2   6  10]\n",
      " [ -9  -3  -2   1   0  -9   2   0]\n",
      " [  5   1  -1  -8  -8   9  -2   5]\n",
      " [ -4  -8   0  -3   2  -6  -5   7]]\n",
      "Difference (sum): 0\n"
     ]
    }
   ],
   "source": [
    "g_int = idaub_5_3_lift_2D(coeff_2D_int, int_flag=True)\n",
    "print(g_int)\n",
    "print('Difference (sum):', np.sum(g-g_int))"
   ]
  },
  {
   "cell_type": "code",
   "execution_count": null,
   "id": "213ea53b",
   "metadata": {},
   "outputs": [
    {
     "name": "stdout",
     "output_type": "stream",
     "text": [
      "0 0\n",
      "0 0\n",
      "1 1\n",
      "1 1\n",
      "1 1\n",
      "1 1\n",
      "2 2\n",
      "2 2\n",
      "2 2\n",
      "2 2\n",
      "3 3\n",
      "3 3\n",
      "3 3\n",
      "3 3\n",
      "4 4\n",
      "4 4\n",
      "4 4\n",
      "4 4\n",
      "5 5\n",
      "5 5\n"
     ]
    }
   ],
   "source": [
    "for k in range(20):\n",
    "    print(int(k/4+1/2), (k+2)//4)"
   ]
  }
 ],
 "metadata": {
  "kernelspec": {
   "display_name": "Python 3",
   "language": "python",
   "name": "python3"
  },
  "language_info": {
   "codemirror_mode": {
    "name": "ipython",
    "version": 3
   },
   "file_extension": ".py",
   "mimetype": "text/x-python",
   "name": "python",
   "nbconvert_exporter": "python",
   "pygments_lexer": "ipython3",
   "version": "3.11.0"
  }
 },
 "nbformat": 4,
 "nbformat_minor": 5
}
