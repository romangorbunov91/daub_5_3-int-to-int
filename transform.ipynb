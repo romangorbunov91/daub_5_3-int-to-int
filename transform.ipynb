{
 "cells": [
  {
   "cell_type": "markdown",
   "id": "aa47fd2a",
   "metadata": {},
   "source": [
    "# Daub 5/3 integer-to-integer system"
   ]
  },
  {
   "cell_type": "code",
   "execution_count": 1,
   "id": "6db9f708",
   "metadata": {},
   "outputs": [],
   "source": [
    "import numpy as np\n",
    "import matplotlib.pyplot as plt\n",
    "import matplotlib.ticker as ticker"
   ]
  },
  {
   "cell_type": "markdown",
   "id": "d2fef9a7",
   "metadata": {},
   "source": [
    "Импорт пользовательских функций."
   ]
  },
  {
   "cell_type": "code",
   "execution_count": 2,
   "id": "864bf95e",
   "metadata": {},
   "outputs": [],
   "source": [
    "from Functions.user_functions import indx_even\n",
    "from Functions.daub_5_3 import daub_5_3\n",
    "from Functions.daub_5_3_lift import daub_5_3_lift\n",
    "from Functions.idaub_5_3_lift import idaub_5_3_lift\n",
    "from Functions.daub_5_3_lift_2D import daub_5_3_lift_2D"
   ]
  },
  {
   "cell_type": "code",
   "execution_count": 3,
   "id": "974a847c",
   "metadata": {},
   "outputs": [],
   "source": [
    "f = np.random.randint(low=-10, high=11, size=8)"
   ]
  },
  {
   "cell_type": "markdown",
   "id": "1c75e9be",
   "metadata": {},
   "source": [
    "## Прямое преобразование"
   ]
  },
  {
   "cell_type": "code",
   "execution_count": 4,
   "id": "585d4acf",
   "metadata": {},
   "outputs": [],
   "source": [
    "N = len(f)\n",
    "d = [0] * (N//2)\n",
    "a = [0] * (N//2)"
   ]
  },
  {
   "cell_type": "markdown",
   "id": "421f5198",
   "metadata": {},
   "source": [
    "### Исследование коэффициентов ${d}$"
   ]
  },
  {
   "cell_type": "code",
   "execution_count": 5,
   "id": "f27a9e6c",
   "metadata": {},
   "outputs": [],
   "source": [
    "# Функция вычисления коэффициентов флуктуации.\n",
    "def d_func(k, f, N, int_flag):\n",
    "    if int_flag:\n",
    "        return f[indx_even(2*k+1,N)] - (f[indx_even(2*k,N)] + f[indx_even(2*k+2,N)]) //2\n",
    "    else:\n",
    "        return f[indx_even(2*k+1,N)] - (f[indx_even(2*k,N)] + f[indx_even(2*k+2,N)]) /2"
   ]
  },
  {
   "cell_type": "code",
   "execution_count": 6,
   "id": "25328f6a",
   "metadata": {},
   "outputs": [
    {
     "data": {
      "image/png": "[encoded data removed]",
      "text/plain": [
       "<Figure size 1200x300 with 1 Axes>"
      ]
     },
     "metadata": {},
     "output_type": "display_data"
    }
   ],
   "source": [
    "n_gr = []\n",
    "d_gr = []\n",
    "for k in range(-N,2*N):\n",
    "    n_gr.append(k)\n",
    "    d_gr.append(d_func(k, f, N, int_flag=False))\n",
    "n_gr_N = []\n",
    "d_gr_N = []\n",
    "\n",
    "for k in range(N):\n",
    "    n_gr_N.append(k)\n",
    "    d_gr_N.append(d_func(k, f, N, int_flag=False))\n",
    "    \n",
    "fig, ax = plt.subplots()\n",
    "fig.set_figheight(3)\n",
    "fig.set_figwidth(12)\n",
    "ax.plot(n_gr, d_gr, 'o')\n",
    "ax.plot(n_gr_N, d_gr_N, 'o')\n",
    "\n",
    "# Force integer ticks on x-axis\n",
    "ax.xaxis.set_major_locator(ticker.MaxNLocator(integer=True))\n",
    "plt.legend(['$k \\in \\mathbb{Z}$','k=[0;(N-1)]'])\n",
    "plt.title('Симметрия коэффициентов флуктуаций' + ' (N=' + str(N) + ')')\n",
    "plt.xlabel('k')\n",
    "plt.ylabel('$d_k$')\n",
    "plt.grid(True)\n",
    "plt.savefig('readme_img/d_symmetry.png', bbox_inches='tight')\n",
    "plt.show()"
   ]
  },
  {
   "cell_type": "markdown",
   "id": "22cda11b",
   "metadata": {},
   "source": [
    "Отсюда вывод: ${d_{-1} = d_0}$."
   ]
  },
  {
   "cell_type": "code",
   "execution_count": 7,
   "id": "478ce454",
   "metadata": {},
   "outputs": [
    {
     "name": "stdout",
     "output_type": "stream",
     "text": [
      "a [-8.5, 6.75, 7.0, -1.5]\n",
      "d [-7.0, -2.0, 2.0, 12.0]\n"
     ]
    }
   ],
   "source": [
    "for k in range(N//2):\n",
    "    d[k] = f[indx_even(2*k+1,N)] - (f[indx_even(2*k,N)] + f[indx_even(2*k+2,N)])/2\n",
    "    if k == 0:\n",
    "        a[k] = f[indx_even(2*k,N)] + d[k] /2\n",
    "    else:\n",
    "        a[k] = f[indx_even(2*k,N)] + (d[k-1] + d[k]) /4\n",
    "    #a[k] = -1/8*(f[indx_even(2*k-2,N)] + f[indx_even(2*k+2,N)]) + 1/4*(f[indx_even(2*k-1,N)] + f[indx_even(2*k+1,N)]) + 3/4*f[indx_even(2*k,N)]\n",
    "print('a', a)\n",
    "print('d', d)"
   ]
  },
  {
   "cell_type": "markdown",
   "id": "ba3d6602",
   "metadata": {},
   "source": [
    "## Обратное преобразование"
   ]
  },
  {
   "cell_type": "code",
   "execution_count": 8,
   "id": "6540ec96",
   "metadata": {},
   "outputs": [
    {
     "name": "stdout",
     "output_type": "stream",
     "text": [
      "[-5 -5  9  6  7  3 -5  7]\n",
      "[-5.0, -5.0, 9.0, 6.0, 7.0, 3.0, -5.0, 7.0]\n",
      "[0. 0. 0. 0. 0. 0. 0. 0.]\n"
     ]
    }
   ],
   "source": [
    "f_rec = [0] * N\n",
    "# Odd values.\n",
    "for k in range(N//2):\n",
    "    if k == 0:\n",
    "        f_rec[2*k] = a[k] - d[k] /2\n",
    "    else:\n",
    "        f_rec[2*k] = a[k] - (d[k-1] + d[k]) /4\n",
    "\n",
    "# Even values.\n",
    "for k in range(N//2):\n",
    "    f_rec[2*k+1] = d[k] + (f[2*k] + f[indx_even(2*k+2,N)])/2\n",
    "print(f)\n",
    "print(f_rec)\n",
    "print(f-f_rec)"
   ]
  },
  {
   "cell_type": "markdown",
   "id": "80b3cc60",
   "metadata": {},
   "source": [
    "## Прямое и обратное преобразование при помощи матричных операций"
   ]
  },
  {
   "cell_type": "code",
   "execution_count": 9,
   "id": "47c270b2",
   "metadata": {},
   "outputs": [
    {
     "name": "stdout",
     "output_type": "stream",
     "text": [
      "Wavelet coefficients: [-8.5, 6.75, 7.0, -1.5, -7.0, -2.0, 2.0, 12.0]\n",
      "Reconstruction: [-5.0, -5.0, 9.0, 6.0, 7.0, 3.0, -5.0, 7.0]\n",
      "Original: [-5 -5  9  6  7  3 -5  7]\n"
     ]
    }
   ],
   "source": [
    "Mdir = np.matrix(np.concatenate(daub_5_3(N), axis = 0))\n",
    "tr = np.matrix(f)*(Mdir.T)\n",
    "Mrev = np.linalg.inv(Mdir).T\n",
    "print('Wavelet coefficients:', tr.tolist()[0])\n",
    "print('Reconstruction:', (tr * Mrev).tolist()[0])\n",
    "print('Original:', f)"
   ]
  },
  {
   "cell_type": "code",
   "execution_count": 10,
   "id": "1d9cb0f1",
   "metadata": {},
   "outputs": [
    {
     "data": {
      "text/plain": [
       "matrix([[ 1.,  0., -0.,  0.,  0.,  0.,  0.,  0.],\n",
       "        [-0.,  0.,  1.,  0., -0.,  0.,  0.,  0.],\n",
       "        [ 0.,  0., -0.,  0.,  1.,  0., -0.,  0.],\n",
       "        [ 0.,  0.,  0.,  0., -0.,  0.,  1.,  0.],\n",
       "        [-0.,  1., -0.,  0.,  0.,  0.,  0.,  0.],\n",
       "        [ 0.,  0., -0.,  1., -0.,  0.,  0.,  0.],\n",
       "        [ 0.,  0.,  0.,  0., -0.,  1., -0.,  0.],\n",
       "        [ 0.,  0.,  0.,  0.,  0.,  0., -1.,  1.]])"
      ]
     },
     "execution_count": 10,
     "metadata": {},
     "output_type": "execute_result"
    }
   ],
   "source": [
    "np.round(Mdir)"
   ]
  },
  {
   "cell_type": "markdown",
   "id": "8db114f7",
   "metadata": {},
   "source": [
    "## Целочисленные преобразования"
   ]
  },
  {
   "cell_type": "markdown",
   "id": "708078ff",
   "metadata": {},
   "source": [
    "Созданы функции lifting-преобразования."
   ]
  },
  {
   "cell_type": "code",
   "execution_count": 11,
   "id": "c2fabd6f",
   "metadata": {},
   "outputs": [
    {
     "name": "stdout",
     "output_type": "stream",
     "text": [
      "[-8.5, 6.75, 7.0, -1.5, -7.0, -2.0, 2.0, 12.0]\n",
      "[-8, 7, 7, -1, -7, -2, 2, 12]\n"
     ]
    }
   ],
   "source": [
    "# float-преобразование.\n",
    "coeff_float = daub_5_3_lift(f, int_flag=False)\n",
    "print(coeff_float)\n",
    "\n",
    "# int-преобразование.\n",
    "coeff_int = daub_5_3_lift(f, int_flag=True)\n",
    "print(coeff_int)"
   ]
  },
  {
   "cell_type": "markdown",
   "id": "0d6608fb",
   "metadata": {},
   "source": [
    "Обратное преобразование, также по lifting-схеме."
   ]
  },
  {
   "cell_type": "code",
   "execution_count": 12,
   "id": "b9ded8a4",
   "metadata": {},
   "outputs": [
    {
     "name": "stdout",
     "output_type": "stream",
     "text": [
      "[-5.0, -5.0, 9.0, 6.0, 7.0, 3.0, -5.0, 7.0]\n",
      "[-5, -5, 9, 6, 7, 3, -5, 7]\n"
     ]
    }
   ],
   "source": [
    "# float-преобразование.\n",
    "f_float = idaub_5_3_lift(coeff_float, int_flag=False)\n",
    "print(f_float)\n",
    "\n",
    "# int-преобразование.\n",
    "f_int = idaub_5_3_lift(coeff_int, int_flag=True)\n",
    "print(f_int)"
   ]
  },
  {
   "cell_type": "code",
   "execution_count": 13,
   "id": "fdcf0dc5",
   "metadata": {},
   "outputs": [
    {
     "name": "stdout",
     "output_type": "stream",
     "text": [
      "0 0\n",
      "0 0\n",
      "1 1\n",
      "1 1\n",
      "1 1\n",
      "1 1\n",
      "2 2\n",
      "2 2\n",
      "2 2\n",
      "2 2\n",
      "3 3\n",
      "3 3\n",
      "3 3\n",
      "3 3\n",
      "4 4\n",
      "4 4\n",
      "4 4\n",
      "4 4\n",
      "5 5\n",
      "5 5\n"
     ]
    }
   ],
   "source": [
    "for k in range(20):\n",
    "    print(int(k/4+1/2), (k+2)//4)"
   ]
  },
  {
   "cell_type": "code",
   "execution_count": 14,
   "id": "c772f781",
   "metadata": {},
   "outputs": [
    {
     "data": {
      "text/plain": [
       "array([[ -9,  -4,   9,  -7,   4,  10,   7,  -5],\n",
       "       [ 10,  10,   8,  10,  -3, -10,   1,   0],\n",
       "       [ -8,  10,   5,   5,  -4,   8,   7,   2],\n",
       "       [  8,  -7,  -3,   9,  -8,   4,  -8,   4],\n",
       "       [ -6,   6,  -4, -10,  -7,   3,   8,   2],\n",
       "       [ -9,  -1,   1,   5,  -2,   2,   6,   0],\n",
       "       [  4,  -4,  -8,  -1,   8,  -8,  -6,   3],\n",
       "       [  0,  -4,   6,  -8,  -8,  -3,   6,   8]])"
      ]
     },
     "execution_count": 14,
     "metadata": {},
     "output_type": "execute_result"
    }
   ],
   "source": [
    "g = np.random.randint(low=-10, high=11, size=8*8).reshape(8,8)\n",
    "g"
   ]
  },
  {
   "cell_type": "code",
   "execution_count": 15,
   "id": "9c234701",
   "metadata": {},
   "outputs": [
    {
     "name": "stdout",
     "output_type": "stream",
     "text": [
      "[[ -3   3 -10   6  -7  -7  -2   2]\n",
      " [  3  -9   6  -6  -2  -1  -9   9]\n",
      " [ -7   3  -1   5   3   5   0  -6]\n",
      " [  0  -2  -8   7  11  -5   2  -6]\n",
      " [  3  -2  -1  -2 -10  14  12  12]\n",
      " [ -2   9  -1   7  11   4   6  -5]\n",
      " [ 11  10  -3  -1   1   7  -9  -1]\n",
      " [-11   5   2   5  -4 -14   4 -12]]\n",
      "[[-22  -5   5   6  -5 -21  13 -11]\n",
      " [ -9   5   1   8  15  -7   4 -11]\n",
      " [  2  -3  -7   5  14 -15  -4  -9]\n",
      " [  8 -12  11 -12   0   0  -8  11]\n",
      " [  3  10  -1   3   4   0  -5  -6]\n",
      " [  1  -1  -2   1  -3   9  12   7]\n",
      " [ -4  -1   0   3   7   1  -3  -5]\n",
      " [  1  -3  -4   0  -7  -7  -6   8]]\n"
     ]
    }
   ],
   "source": [
    "print(daub_5_3_lift_2D(g, int_flag=True))"
   ]
  },
  {
   "cell_type": "code",
   "execution_count": 16,
   "id": "1ac23fff",
   "metadata": {},
   "outputs": [
    {
     "name": "stdout",
     "output_type": "stream",
     "text": [
      "[[ -3   2 -10   6  -7  -7  -2   2]\n",
      " [  3  -8   5  -6  -2  -1  -9   9]\n",
      " [ -7   3   0   4   3   5   0  -6]\n",
      " [  0  -2  -7   7  11  -4   2  -6]\n",
      " [  3  -1  -1  -2  -9  14  12  12]\n",
      " [ -2   9  -1   7  11   4   6  -5]\n",
      " [ 10  10  -3  -1   1   7  -9  -1]\n",
      " [-11   4   1   5  -4 -13   4 -12]]\n",
      "[[-21  -6   4   6  -5 -20  13 -11]\n",
      " [ -8   4   1   8  15  -6   4 -10]\n",
      " [  2  -3  -6   6  14 -13  -4  -9]\n",
      " [  8 -10  10 -11   0   0  -8  11]\n",
      " [  2   9  -1   2   3   0  -4  -6]\n",
      " [  1   0  -2   1  -1   9  12   7]\n",
      " [ -4   0   0   2   6   1  -3  -5]\n",
      " [  1  -3  -5   0  -7  -7  -6   7]]\n"
     ]
    }
   ],
   "source": [
    "print(daub_5_3_lift_2D(g, int_flag=False))"
   ]
  }
 ],
 "metadata": {
  "kernelspec": {
   "display_name": "Python 3",
   "language": "python",
   "name": "python3"
  },
  "language_info": {
   "codemirror_mode": {
    "name": "ipython",
    "version": 3
   },
   "file_extension": ".py",
   "mimetype": "text/x-python",
   "name": "python",
   "nbconvert_exporter": "python",
   "pygments_lexer": "ipython3",
   "version": "3.11.0"
  }
 },
 "nbformat": 4,
 "nbformat_minor": 5
}
