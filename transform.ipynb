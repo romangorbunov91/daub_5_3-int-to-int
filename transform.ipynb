{
 "cells": [
  {
   "cell_type": "markdown",
   "id": "aa47fd2a",
   "metadata": {},
   "source": [
    "# Daub 5/3 integer-to-integer system"
   ]
  },
  {
   "cell_type": "code",
   "execution_count": 12,
   "id": "6db9f708",
   "metadata": {},
   "outputs": [],
   "source": [
    "import numpy as np\n",
    "import matplotlib.pyplot as plt"
   ]
  },
  {
   "cell_type": "markdown",
   "id": "d2fef9a7",
   "metadata": {},
   "source": [
    "Импорт пользовательских функций."
   ]
  },
  {
   "cell_type": "code",
   "execution_count": 13,
   "id": "864bf95e",
   "metadata": {},
   "outputs": [],
   "source": [
    "from Functions.daub_5_3 import daub_5_3"
   ]
  },
  {
   "cell_type": "code",
   "execution_count": 14,
   "id": "974a847c",
   "metadata": {},
   "outputs": [],
   "source": [
    "f = [1, -2, 6, 8]\n",
    "N = len(f)\n",
    "d = [0] * (N//2)\n",
    "a = [0] * (N//2)"
   ]
  },
  {
   "cell_type": "code",
   "execution_count": 15,
   "id": "b92a5d1f",
   "metadata": {},
   "outputs": [],
   "source": [
    "def indx_even(k,N):\n",
    "    if k >= N:\n",
    "        k = - (k - N + 2)\n",
    "    elif k < 0:\n",
    "        k = -k\n",
    "    return k"
   ]
  },
  {
   "cell_type": "code",
   "execution_count": 16,
   "id": "2bb25786",
   "metadata": {},
   "outputs": [],
   "source": [
    "def d_func(k,f,N):\n",
    "    return f[indx_even(2*k+1,N)] - 1/2*(f[indx_even(2*k,N)] + f[indx_even(2*k+2,N)])"
   ]
  },
  {
   "cell_type": "code",
   "execution_count": 17,
   "id": "478ce454",
   "metadata": {},
   "outputs": [
    {
     "name": "stdout",
     "output_type": "stream",
     "text": [
      "a [-1.75, 5.125]\n",
      "d [-5.5, 2.0]\n"
     ]
    }
   ],
   "source": [
    "for k in range(N//2):\n",
    "    d[k] = d_func(k,f,N)\n",
    "    a[k] = -1/8*(f[indx_even(2*k-2,N)] + f[indx_even(2*k+2,N)]) + 1/4*(f[indx_even(2*k-1,N)] + f[indx_even(2*k+1,N)]) + 3/4*f[indx_even(2*k,N)]\n",
    "print('a', a)\n",
    "print('d', d)"
   ]
  },
  {
   "cell_type": "code",
   "execution_count": 18,
   "id": "f6a01749",
   "metadata": {},
   "outputs": [
    {
     "name": "stdout",
     "output_type": "stream",
     "text": [
      "a [-1.75, 5.125]\n",
      "d [-5.5, 2.0]\n"
     ]
    }
   ],
   "source": [
    "for k in range(N//2):\n",
    "    a[k] = f[indx_even(2*k,N)] + 1/4*(d_func(k-1,f,N) + d[k])\n",
    "print('a', a)\n",
    "print('d', d)"
   ]
  },
  {
   "cell_type": "code",
   "execution_count": 23,
   "id": "47c270b2",
   "metadata": {},
   "outputs": [
    {
     "data": {
      "text/plain": [
       "matrix([[-1.75 ,  5.125, -5.5  ,  2.   ]])"
      ]
     },
     "execution_count": 23,
     "metadata": {},
     "output_type": "execute_result"
    }
   ],
   "source": [
    "Mdir = np.matrix(np.concatenate(daub_5_3(N), axis = 0))\n",
    "#Mrev = np.linalg.inv(Mdir).T\n",
    "np.matrix(f)*(Mdir.T)"
   ]
  },
  {
   "cell_type": "code",
   "execution_count": 20,
   "id": "7bc787cc",
   "metadata": {},
   "outputs": [
    {
     "data": {
      "text/plain": [
       "(array([[ 0.75 ,  0.5  , -0.25 ,  0.   ],\n",
       "        [-0.125,  0.25 ,  0.625,  0.25 ]]),\n",
       " array([[-0.5,  1. , -0.5,  0. ],\n",
       "        [ 0. ,  0. , -1. ,  1. ]]))"
      ]
     },
     "execution_count": 20,
     "metadata": {},
     "output_type": "execute_result"
    }
   ],
   "source": [
    "daub_5_3(N)"
   ]
  }
 ],
 "metadata": {
  "kernelspec": {
   "display_name": "Python 3",
   "language": "python",
   "name": "python3"
  },
  "language_info": {
   "codemirror_mode": {
    "name": "ipython",
    "version": 3
   },
   "file_extension": ".py",
   "mimetype": "text/x-python",
   "name": "python",
   "nbconvert_exporter": "python",
   "pygments_lexer": "ipython3",
   "version": "3.11.0"
  }
 },
 "nbformat": 4,
 "nbformat_minor": 5
}
