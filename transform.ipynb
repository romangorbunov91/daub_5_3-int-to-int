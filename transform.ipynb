{
 "cells": [
  {
   "cell_type": "markdown",
   "id": "aa47fd2a",
   "metadata": {},
   "source": [
    "# Daub 5/3 integer-to-integer system"
   ]
  },
  {
   "cell_type": "code",
   "execution_count": 1,
   "id": "6db9f708",
   "metadata": {},
   "outputs": [],
   "source": [
    "import numpy as np\n",
    "import matplotlib.pyplot as plt"
   ]
  },
  {
   "cell_type": "markdown",
   "id": "d2fef9a7",
   "metadata": {},
   "source": [
    "Импорт пользовательских функций."
   ]
  },
  {
   "cell_type": "code",
   "execution_count": 2,
   "id": "864bf95e",
   "metadata": {},
   "outputs": [],
   "source": [
    "from Functions.daub_5_3 import daub_5_3\n",
    "from Functions.daub_5_3_lift import daub_5_3_lift\n",
    "from Functions.user_functions import indx_even, d_func"
   ]
  },
  {
   "cell_type": "code",
   "execution_count": 3,
   "id": "974a847c",
   "metadata": {},
   "outputs": [],
   "source": [
    "#f = [1, -2, 6, 8]\n",
    "f = np.random.randint(low=-10, high=11, size=8)"
   ]
  },
  {
   "cell_type": "markdown",
   "id": "1c75e9be",
   "metadata": {},
   "source": [
    "## Прямое преобразование"
   ]
  },
  {
   "cell_type": "code",
   "execution_count": 4,
   "id": "585d4acf",
   "metadata": {},
   "outputs": [],
   "source": [
    "N = len(f)\n",
    "d = [0] * (N//2)\n",
    "a = [0] * (N//2)"
   ]
  },
  {
   "cell_type": "code",
   "execution_count": 5,
   "id": "478ce454",
   "metadata": {},
   "outputs": [
    {
     "name": "stdout",
     "output_type": "stream",
     "text": [
      "a [0.75, 1.875, 7.375, -2.625]\n",
      "d [11.5, -4.0, -6.5, 0.0]\n"
     ]
    }
   ],
   "source": [
    "for k in range(N//2):\n",
    "    d[k] = d_func(k, f, N, int_flag=False)\n",
    "    a[k] = f[indx_even(2*k,N)] + (d_func(k-1, f, N, int_flag=False) + d[k])/4\n",
    "    #a[k] = -1/8*(f[indx_even(2*k-2,N)] + f[indx_even(2*k+2,N)]) + 1/4*(f[indx_even(2*k-1,N)] + f[indx_even(2*k+1,N)]) + 3/4*f[indx_even(2*k,N)]\n",
    "print('a', a)\n",
    "print('d', d)"
   ]
  },
  {
   "cell_type": "markdown",
   "id": "ba3d6602",
   "metadata": {},
   "source": [
    "## Обратное преобразование"
   ]
  },
  {
   "cell_type": "code",
   "execution_count": 6,
   "id": "6540ec96",
   "metadata": {},
   "outputs": [
    {
     "name": "stdout",
     "output_type": "stream",
     "text": [
      "[-5  9  0  1 10 -2 -1 -1]\n",
      "[-5.0, 9.0, 0.0, 1.0, 10.0, -2.0, -1.0, -1.0]\n"
     ]
    }
   ],
   "source": [
    "f_rec = [0] * N\n",
    "# Odd values.\n",
    "for k in range(N//2):\n",
    "    f_rec[2*k] = a[k] - (d_func(k-1, f, N, int_flag=False) + d[k])/4\n",
    "\n",
    "# Even values.\n",
    "for k in range(N//2):\n",
    "    f_rec[2*k+1] = d[k] + (f[2*k] + f[indx_even(2*k+2,N)])/2\n",
    "print(f)\n",
    "print(f_rec)"
   ]
  },
  {
   "cell_type": "code",
   "execution_count": 7,
   "id": "25328f6a",
   "metadata": {},
   "outputs": [
    {
     "data": {
      "image/png": "[encoded data removed]",
      "text/plain": [
       "<Figure size 640x480 with 1 Axes>"
      ]
     },
     "metadata": {},
     "output_type": "display_data"
    }
   ],
   "source": [
    "n_gr = []\n",
    "d_gr = []\n",
    "for k in range(-10,10):\n",
    "    n_gr.append(k)\n",
    "    d_gr.append(d_func(k, f, N, int_flag=False))\n",
    "n_gr_N = []\n",
    "d_gr_N = []\n",
    "\n",
    "for k in range(N):\n",
    "    n_gr_N.append(k)\n",
    "    d_gr_N.append(d_func(k, f, N, int_flag=False))\n",
    "    \n",
    "import matplotlib.ticker as ticker\n",
    "# Create plot\n",
    "fig, ax = plt.subplots()\n",
    "ax.plot(n_gr, d_gr, 'o')\n",
    "ax.plot(n_gr_N, d_gr_N, 'o')\n",
    "\n",
    "# Force integer ticks on x-axis\n",
    "ax.xaxis.set_major_locator(ticker.MaxNLocator(integer=True))\n",
    "\n",
    "plt.show()"
   ]
  },
  {
   "cell_type": "markdown",
   "id": "80b3cc60",
   "metadata": {},
   "source": [
    "## Прямое и обратное преобразование при помощи матричных операций"
   ]
  },
  {
   "cell_type": "code",
   "execution_count": 8,
   "id": "47c270b2",
   "metadata": {},
   "outputs": [
    {
     "name": "stdout",
     "output_type": "stream",
     "text": [
      "Wavelet coefficients: [0.75, 1.875, 7.375, -2.625, 11.5, -4.0, -6.5, 0.0]\n",
      "Reconstruction: [-5.0, 9.0, 0.0, 1.0, 10.0, -2.0, -1.0, -1.0]\n",
      "Original: [-5  9  0  1 10 -2 -1 -1]\n"
     ]
    }
   ],
   "source": [
    "Mdir = np.matrix(np.concatenate(daub_5_3(N), axis = 0))\n",
    "tr = np.matrix(f)*(Mdir.T)\n",
    "Mrev = np.linalg.inv(Mdir).T\n",
    "print('Wavelet coefficients:', tr.tolist()[0])\n",
    "print('Reconstruction:', (tr * Mrev).tolist()[0])\n",
    "print('Original:', f)"
   ]
  },
  {
   "cell_type": "code",
   "execution_count": 9,
   "id": "1d9cb0f1",
   "metadata": {},
   "outputs": [
    {
     "data": {
      "text/plain": [
       "matrix([[ 1.,  0., -0.,  0.,  0.,  0.,  0.,  0.],\n",
       "        [-0.,  0.,  1.,  0., -0.,  0.,  0.,  0.],\n",
       "        [ 0.,  0., -0.,  0.,  1.,  0., -0.,  0.],\n",
       "        [ 0.,  0.,  0.,  0., -0.,  0.,  1.,  0.],\n",
       "        [-0.,  1., -0.,  0.,  0.,  0.,  0.,  0.],\n",
       "        [ 0.,  0., -0.,  1., -0.,  0.,  0.,  0.],\n",
       "        [ 0.,  0.,  0.,  0., -0.,  1., -0.,  0.],\n",
       "        [ 0.,  0.,  0.,  0.,  0.,  0., -1.,  1.]])"
      ]
     },
     "execution_count": 9,
     "metadata": {},
     "output_type": "execute_result"
    }
   ],
   "source": [
    "np.round(Mdir)"
   ]
  },
  {
   "cell_type": "markdown",
   "id": "8db114f7",
   "metadata": {},
   "source": [
    "## Целочисленные преобразования"
   ]
  },
  {
   "cell_type": "markdown",
   "id": "708078ff",
   "metadata": {},
   "source": [
    "Созданы функции lifting-преобразования."
   ]
  },
  {
   "cell_type": "code",
   "execution_count": 10,
   "id": "c2fabd6f",
   "metadata": {},
   "outputs": [
    {
     "name": "stdout",
     "output_type": "stream",
     "text": [
      "[0.75, 1.875, 7.375, -2.625, 11.5, -4.0, -6.5, 0.0]\n",
      "[1, 2, 7, -3, 12, -4, -6, 0]\n"
     ]
    }
   ],
   "source": [
    "# float-преобразование.\n",
    "coeff_float = daub_5_3_lift(f, int_flag=False)\n",
    "print(coeff_float)\n",
    "\n",
    "# int-преобразование.\n",
    "coeff_int = daub_5_3_lift(f, int_flag=True)\n",
    "print(coeff_int)"
   ]
  },
  {
   "cell_type": "markdown",
   "id": "0d6608fb",
   "metadata": {},
   "source": [
    "Обратное преобразование, также по lifting-схеме."
   ]
  },
  {
   "cell_type": "code",
   "execution_count": null,
   "id": "b9ded8a4",
   "metadata": {},
   "outputs": [],
   "source": []
  }
 ],
 "metadata": {
  "kernelspec": {
   "display_name": "Python 3",
   "language": "python",
   "name": "python3"
  },
  "language_info": {
   "codemirror_mode": {
    "name": "ipython",
    "version": 3
   },
   "file_extension": ".py",
   "mimetype": "text/x-python",
   "name": "python",
   "nbconvert_exporter": "python",
   "pygments_lexer": "ipython3",
   "version": "3.11.0"
  }
 },
 "nbformat": 4,
 "nbformat_minor": 5
}
