{
 "cells": [
  {
   "cell_type": "markdown",
   "id": "aa47fd2a",
   "metadata": {},
   "source": [
    "# Daub 5/3 integer-to-integer system"
   ]
  },
  {
   "cell_type": "code",
   "execution_count": 41,
   "id": "6db9f708",
   "metadata": {},
   "outputs": [],
   "source": [
    "import numpy as np\n",
    "import matplotlib.pyplot as plt\n",
    "import matplotlib.ticker as ticker"
   ]
  },
  {
   "cell_type": "markdown",
   "id": "d2fef9a7",
   "metadata": {},
   "source": [
    "Импорт пользовательских функций."
   ]
  },
  {
   "cell_type": "code",
   "execution_count": 42,
   "id": "864bf95e",
   "metadata": {},
   "outputs": [],
   "source": [
    "from Functions.user_functions import indx_even\n",
    "from Functions.daub_5_3 import daub_5_3\n",
    "from Functions.daub_5_3_lift import daub_5_3_lift\n",
    "from Functions.idaub_5_3_lift import idaub_5_3_lift\n",
    "from Functions.daub_5_3_lift_2D import daub_5_3_lift_2D\n",
    "from Functions.idaub_5_3_lift_2D import idaub_5_3_lift_2D"
   ]
  },
  {
   "cell_type": "code",
   "execution_count": 43,
   "id": "974a847c",
   "metadata": {},
   "outputs": [],
   "source": [
    "f = np.random.randint(low=-10, high=11, size=8)"
   ]
  },
  {
   "cell_type": "markdown",
   "id": "1c75e9be",
   "metadata": {},
   "source": [
    "## Прямое преобразование"
   ]
  },
  {
   "cell_type": "code",
   "execution_count": 44,
   "id": "585d4acf",
   "metadata": {},
   "outputs": [],
   "source": [
    "N = len(f)\n",
    "d = [0] * (N//2)\n",
    "a = [0] * (N//2)"
   ]
  },
  {
   "cell_type": "markdown",
   "id": "421f5198",
   "metadata": {},
   "source": [
    "### Исследование коэффициентов ${d}$"
   ]
  },
  {
   "cell_type": "code",
   "execution_count": 45,
   "id": "f27a9e6c",
   "metadata": {},
   "outputs": [],
   "source": [
    "# Функция вычисления коэффициентов флуктуации.\n",
    "def d_func(k, f, N, int_flag):\n",
    "    if int_flag:\n",
    "        return f[indx_even(2*k+1,N)] - (f[indx_even(2*k,N)] + f[indx_even(2*k+2,N)]) //2\n",
    "    else:\n",
    "        return f[indx_even(2*k+1,N)] - (f[indx_even(2*k,N)] + f[indx_even(2*k+2,N)]) /2"
   ]
  },
  {
   "cell_type": "code",
   "execution_count": 46,
   "id": "25328f6a",
   "metadata": {},
   "outputs": [
    {
     "data": {
      "image/png": "[encoded data removed]",
      "text/plain": [
       "<Figure size 1200x300 with 1 Axes>"
      ]
     },
     "metadata": {},
     "output_type": "display_data"
    }
   ],
   "source": [
    "n_gr = []\n",
    "d_gr = []\n",
    "for k in range(-N,2*N):\n",
    "    n_gr.append(k)\n",
    "    d_gr.append(d_func(k, f, N, int_flag=False))\n",
    "n_gr_N = []\n",
    "d_gr_N = []\n",
    "\n",
    "for k in range(N):\n",
    "    n_gr_N.append(k)\n",
    "    d_gr_N.append(d_func(k, f, N, int_flag=False))\n",
    "    \n",
    "fig, ax = plt.subplots()\n",
    "fig.set_figheight(3)\n",
    "fig.set_figwidth(12)\n",
    "ax.plot(n_gr, d_gr, 'o')\n",
    "ax.plot(n_gr_N, d_gr_N, 'o')\n",
    "\n",
    "# Force integer ticks on x-axis\n",
    "ax.xaxis.set_major_locator(ticker.MaxNLocator(integer=True))\n",
    "plt.legend(['$k \\in \\mathbb{Z}$','k=[0;(N-1)]'])\n",
    "plt.title('Симметрия коэффициентов флуктуаций' + ' (N=' + str(N) + ')')\n",
    "plt.xlabel('k')\n",
    "plt.ylabel('$d_k$')\n",
    "plt.grid(True)\n",
    "plt.savefig('readme_img/d_symmetry.png', bbox_inches='tight')\n",
    "plt.show()"
   ]
  },
  {
   "cell_type": "markdown",
   "id": "22cda11b",
   "metadata": {},
   "source": [
    "Отсюда вывод: ${d_{-1} = d_0}$."
   ]
  },
  {
   "cell_type": "code",
   "execution_count": 47,
   "id": "478ce454",
   "metadata": {},
   "outputs": [
    {
     "name": "stdout",
     "output_type": "stream",
     "text": [
      "a [-10.75, 5.875, -6.625, -0.875]\n",
      "d [-11.5, -5.0, 10.5, -2.0]\n"
     ]
    }
   ],
   "source": [
    "for k in range(N//2):\n",
    "    d[k] = f[indx_even(2*k+1,N)] - (f[indx_even(2*k,N)] + f[indx_even(2*k+2,N)])/2\n",
    "    if k == 0:\n",
    "        a[k] = f[indx_even(2*k,N)] + d[k] /2\n",
    "    else:\n",
    "        a[k] = f[indx_even(2*k,N)] + (d[k-1] + d[k]) /4\n",
    "    #a[k] = -1/8*(f[indx_even(2*k-2,N)] + f[indx_even(2*k+2,N)]) + 1/4*(f[indx_even(2*k-1,N)] + f[indx_even(2*k+1,N)]) + 3/4*f[indx_even(2*k,N)]\n",
    "print('a', a)\n",
    "print('d', d)"
   ]
  },
  {
   "cell_type": "markdown",
   "id": "ba3d6602",
   "metadata": {},
   "source": [
    "## Обратное преобразование"
   ]
  },
  {
   "cell_type": "code",
   "execution_count": 48,
   "id": "6540ec96",
   "metadata": {},
   "outputs": [
    {
     "name": "stdout",
     "output_type": "stream",
     "text": [
      "Reconstruction: [-5.0, -9.0, 10.0, -4.0, -8.0, 5.0, -3.0, -5.0]\n",
      "Original: [-5 -9 10 -4 -8  5 -3 -5]\n",
      "Difference: [0. 0. 0. 0. 0. 0. 0. 0.]\n"
     ]
    }
   ],
   "source": [
    "f_rec = [0] * N\n",
    "# Odd values.\n",
    "for k in range(N//2):\n",
    "    if k == 0:\n",
    "        f_rec[2*k] = a[k] - d[k] /2\n",
    "    else:\n",
    "        f_rec[2*k] = a[k] - (d[k-1] + d[k]) /4\n",
    "\n",
    "# Even values.\n",
    "for k in range(N//2):\n",
    "    f_rec[2*k+1] = d[k] + (f[2*k] + f[indx_even(2*k+2,N)])/2\n",
    "print('Reconstruction:', f_rec)\n",
    "print('Original:', f)\n",
    "print('Difference:', f-f_rec)"
   ]
  },
  {
   "cell_type": "markdown",
   "id": "80b3cc60",
   "metadata": {},
   "source": [
    "## Прямое и обратное преобразование при помощи матричных операций"
   ]
  },
  {
   "cell_type": "code",
   "execution_count": 49,
   "id": "47c270b2",
   "metadata": {},
   "outputs": [
    {
     "name": "stdout",
     "output_type": "stream",
     "text": [
      "Wavelet coefficients: [-10.75, 5.875, -6.625, -0.875, -11.5, -5.0, 10.5, -2.0]\n",
      "Reconstruction: [-5.0, -9.0, 10.0, -4.0, -8.0, 5.0, -3.0, -5.0]\n",
      "Original: [-5 -9 10 -4 -8  5 -3 -5]\n"
     ]
    }
   ],
   "source": [
    "Mdir = np.matrix(np.concatenate(daub_5_3(N), axis = 0))\n",
    "tr = np.matrix(f)*(Mdir.T)\n",
    "Mrev = np.linalg.inv(Mdir).T\n",
    "print('Wavelet coefficients:', tr.tolist()[0])\n",
    "print('Reconstruction:', (tr * Mrev).tolist()[0])\n",
    "print('Original:', f)"
   ]
  },
  {
   "cell_type": "code",
   "execution_count": 50,
   "id": "1d9cb0f1",
   "metadata": {},
   "outputs": [
    {
     "data": {
      "text/plain": [
       "matrix([[ 1.,  0., -0.,  0.,  0.,  0.,  0.,  0.],\n",
       "        [-0.,  0.,  1.,  0., -0.,  0.,  0.,  0.],\n",
       "        [ 0.,  0., -0.,  0.,  1.,  0., -0.,  0.],\n",
       "        [ 0.,  0.,  0.,  0., -0.,  0.,  1.,  0.],\n",
       "        [-0.,  1., -0.,  0.,  0.,  0.,  0.,  0.],\n",
       "        [ 0.,  0., -0.,  1., -0.,  0.,  0.,  0.],\n",
       "        [ 0.,  0.,  0.,  0., -0.,  1., -0.,  0.],\n",
       "        [ 0.,  0.,  0.,  0.,  0.,  0., -1.,  1.]])"
      ]
     },
     "execution_count": 50,
     "metadata": {},
     "output_type": "execute_result"
    }
   ],
   "source": [
    "np.round(Mdir)"
   ]
  },
  {
   "cell_type": "markdown",
   "id": "8db114f7",
   "metadata": {},
   "source": [
    "## Целочисленные преобразования"
   ]
  },
  {
   "cell_type": "markdown",
   "id": "708078ff",
   "metadata": {},
   "source": [
    "Созданы функции lifting-преобразования."
   ]
  },
  {
   "cell_type": "code",
   "execution_count": 51,
   "id": "c2fabd6f",
   "metadata": {},
   "outputs": [
    {
     "name": "stdout",
     "output_type": "stream",
     "text": [
      "[-10.75, 5.875, -6.625, -0.875, -11.5, -5.0, 10.5, -2.0]\n",
      "[-11, 6, -7, -1, -12, -5, 10, -2]\n"
     ]
    }
   ],
   "source": [
    "# float-преобразование.\n",
    "coeff_float = daub_5_3_lift(f, int_flag=False)\n",
    "print(coeff_float)\n",
    "\n",
    "# int-преобразование.\n",
    "coeff_int = daub_5_3_lift(f, int_flag=True)\n",
    "print(coeff_int)"
   ]
  },
  {
   "cell_type": "markdown",
   "id": "0d6608fb",
   "metadata": {},
   "source": [
    "Обратное преобразование, также по lifting-схеме."
   ]
  },
  {
   "cell_type": "code",
   "execution_count": 52,
   "id": "b9ded8a4",
   "metadata": {},
   "outputs": [
    {
     "name": "stdout",
     "output_type": "stream",
     "text": [
      "float64\n",
      "[-5.0, -9.0, 10.0, -4.0, -8.0, 5.0, -3.0, -5.0]\n",
      "int32\n",
      "[-5, -9, 10, -4, -8, 5, -3, -5]\n"
     ]
    }
   ],
   "source": [
    "# float-преобразование.\n",
    "f_float = idaub_5_3_lift(coeff_float, int_flag=False)\n",
    "print(np.array(f_float).dtype)\n",
    "print(f_float)\n",
    "\n",
    "# int-преобразование.\n",
    "f_int = idaub_5_3_lift(coeff_int, int_flag=True)\n",
    "print(np.array(f_int).dtype)\n",
    "print(f_int)"
   ]
  },
  {
   "cell_type": "markdown",
   "id": "bdf8b505",
   "metadata": {},
   "source": [
    "## 2D-преобразование"
   ]
  },
  {
   "cell_type": "markdown",
   "id": "bb060a85",
   "metadata": {},
   "source": [
    "Формируем двумерный массив."
   ]
  },
  {
   "cell_type": "code",
   "execution_count": 53,
   "id": "c772f781",
   "metadata": {},
   "outputs": [
    {
     "name": "stdout",
     "output_type": "stream",
     "text": [
      "[[  5   2  -1  -8  -8  -6  -7  -7]\n",
      " [ -5   0   8   5 -10  -6  -6  -8]\n",
      " [  4   8  -6   6   9  -4   8   9]\n",
      " [ -6  -4  -7   0   8   4   7  -3]\n",
      " [  6  -8   4  -3   2   5  -6   5]\n",
      " [  6  -1  -1  -5  -9   2   6   2]\n",
      " [ -8  -4   9  -1  -3  -8  -7  10]\n",
      " [  9   0  -8   0   5   0   4   6]\n",
      " [  2  10  -9  -2  -6   1   8   2]\n",
      " [-10  -2  -4  -2   0   8   2   1]]\n"
     ]
    }
   ],
   "source": [
    "g = np.random.randint(low=-10, high=11, size=10*8).reshape(10,8)\n",
    "print(g)"
   ]
  },
  {
   "cell_type": "markdown",
   "id": "1dbdc1df",
   "metadata": {},
   "source": [
    "### Прямое преобразование"
   ]
  },
  {
   "cell_type": "code",
   "execution_count": 54,
   "id": "7d65bff0",
   "metadata": {},
   "outputs": [
    {
     "name": "stdout",
     "output_type": "stream",
     "text": [
      "float64\n",
      "[[ 10.75     -11.        -0.5       -0.625      1.5       -9.5\n",
      "   -0.5        2.      ]\n",
      " [ 13.75      -3.9375     7.5        6.3125     8.5        1.75\n",
      "  -11.75       7.      ]\n",
      " [ -0.25       3.4375     2.8125    -6.25     -12.5       -5.75\n",
      "    7.        18.      ]\n",
      " [-16.75      11.6875    -2.8125    -8.125     -2.5       -4.75\n",
      "   -2.5       18.      ]\n",
      " [  8.125      1.        -7.625      3.0625    11.25       4.75\n",
      "   -1.25      -6.5     ]\n",
      " [  0.375      5.390625  -6.25      -4.578125   1.         4.0625\n",
      "   -1.0625     0.25    ]\n",
      " [ -1.375     -6.625      9.578125   3.640625   1.5       -1.5\n",
      "   -4.6875    -3.75    ]\n",
      " [  0.         1.90625   -8.125      2.28125   -7.25      -2.625\n",
      "    4.625      5.      ]\n",
      " [  6.59375   -4.578125   1.640625   2.109375   1.6875     1.5\n",
      "   -5.4375     4.875   ]\n",
      " [ -3.4375    -2.25      -2.0625     5.03125   10.625      2.375\n",
      "    6.375     -4.25    ]]\n"
     ]
    }
   ],
   "source": [
    "# float-преобразование.\n",
    "coeff_2D_float = daub_5_3_lift_2D(g, int_flag=False)\n",
    "print(coeff_2D_float.dtype)\n",
    "print(coeff_2D_float)"
   ]
  },
  {
   "cell_type": "code",
   "execution_count": 55,
   "id": "c7f6a497",
   "metadata": {},
   "outputs": [
    {
     "name": "stdout",
     "output_type": "stream",
     "text": [
      "int32\n",
      "[[ 11 -11  -1  -1   2 -10  -1   2]\n",
      " [ 14  -4   7   6   9   1 -12   7]\n",
      " [  0   3   2  -6 -12  -6   7  18]\n",
      " [-17  12  -3  -8  -3  -5  -2  18]\n",
      " [  8   1  -8   3  11   4  -1  -7]\n",
      " [  0   5  -6  -5   1   4  -1   0]\n",
      " [ -1  -7   9   4   1  -2  -5  -4]\n",
      " [  0   2  -8   3  -8  -3   4   5]\n",
      " [  7  -5   1   2   1   1  -6   5]\n",
      " [ -3  -2  -2   6  11   2   7  -4]]\n"
     ]
    }
   ],
   "source": [
    "# int-преобразование.\n",
    "coeff_2D_int = daub_5_3_lift_2D(g, int_flag=True)\n",
    "print(coeff_2D_int.dtype)\n",
    "print(coeff_2D_int)"
   ]
  },
  {
   "cell_type": "markdown",
   "id": "14b59d65",
   "metadata": {},
   "source": [
    "### Обратное преобразование"
   ]
  },
  {
   "cell_type": "code",
   "execution_count": 56,
   "id": "f62a0a3a",
   "metadata": {},
   "outputs": [
    {
     "name": "stdout",
     "output_type": "stream",
     "text": [
      "[[  5.   2.  -1.  -8.  -8.  -6.  -7.  -7.]\n",
      " [ -5.   0.   8.   5. -10.  -6.  -6.  -8.]\n",
      " [  4.   8.  -6.   6.   9.  -4.   8.   9.]\n",
      " [ -6.  -4.  -7.   0.   8.   4.   7.  -3.]\n",
      " [  6.  -8.   4.  -3.   2.   5.  -6.   5.]\n",
      " [  6.  -1.  -1.  -5.  -9.   2.   6.   2.]\n",
      " [ -8.  -4.   9.  -1.  -3.  -8.  -7.  10.]\n",
      " [  9.   0.  -8.   0.   5.   0.   4.   6.]\n",
      " [  2.  10.  -9.  -2.  -6.   1.   8.   2.]\n",
      " [-10.  -2.  -4.  -2.   0.   8.   2.   1.]]\n",
      "Difference (sum): 0.0\n"
     ]
    }
   ],
   "source": [
    "g_float = idaub_5_3_lift_2D(coeff_2D_float, int_flag=False)\n",
    "print(g_float)\n",
    "print('Difference (sum):', np.sum(g-g_float))"
   ]
  },
  {
   "cell_type": "code",
   "execution_count": 57,
   "id": "9d396fa5",
   "metadata": {},
   "outputs": [
    {
     "name": "stdout",
     "output_type": "stream",
     "text": [
      "[[  5   2  -1  -8  -8  -6  -7  -7]\n",
      " [ -5   0   8   5 -10  -6  -6  -8]\n",
      " [  4   8  -6   6   9  -4   8   9]\n",
      " [ -6  -4  -7   0   8   4   7  -3]\n",
      " [  6  -8   4  -3   2   5  -6   5]\n",
      " [  6  -1  -1  -5  -9   2   6   2]\n",
      " [ -8  -4   9  -1  -3  -8  -7  10]\n",
      " [  9   0  -8   0   5   0   4   6]\n",
      " [  2  10  -9  -2  -6   1   8   2]\n",
      " [-10  -2  -4  -2   0   8   2   1]]\n",
      "Difference (sum): 0\n"
     ]
    }
   ],
   "source": [
    "g_int = idaub_5_3_lift_2D(coeff_2D_int, int_flag=True)\n",
    "print(g_int)\n",
    "print('Difference (sum):', np.sum(g-g_int))"
   ]
  },
  {
   "cell_type": "code",
   "execution_count": 58,
   "id": "213ea53b",
   "metadata": {},
   "outputs": [
    {
     "name": "stdout",
     "output_type": "stream",
     "text": [
      "0 0\n",
      "0 0\n",
      "1 1\n",
      "1 1\n",
      "1 1\n",
      "1 1\n",
      "2 2\n",
      "2 2\n",
      "2 2\n",
      "2 2\n",
      "3 3\n",
      "3 3\n",
      "3 3\n",
      "3 3\n",
      "4 4\n",
      "4 4\n",
      "4 4\n",
      "4 4\n",
      "5 5\n",
      "5 5\n"
     ]
    }
   ],
   "source": [
    "for k in range(20):\n",
    "    print(int(k/4+1/2), (k+2)//4)"
   ]
  }
 ],
 "metadata": {
  "kernelspec": {
   "display_name": "Python 3",
   "language": "python",
   "name": "python3"
  },
  "language_info": {
   "codemirror_mode": {
    "name": "ipython",
    "version": 3
   },
   "file_extension": ".py",
   "mimetype": "text/x-python",
   "name": "python",
   "nbconvert_exporter": "python",
   "pygments_lexer": "ipython3",
   "version": "3.11.0"
  }
 },
 "nbformat": 4,
 "nbformat_minor": 5
}
