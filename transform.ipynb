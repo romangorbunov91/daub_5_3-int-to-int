{
 "cells": [
  {
   "cell_type": "markdown",
   "id": "aa47fd2a",
   "metadata": {},
   "source": [
    "# Daub 5/3 integer-to-integer system"
   ]
  },
  {
   "cell_type": "code",
   "execution_count": 1,
   "id": "6db9f708",
   "metadata": {},
   "outputs": [],
   "source": [
    "import numpy as np\n",
    "import matplotlib.pyplot as plt"
   ]
  },
  {
   "cell_type": "markdown",
   "id": "d2fef9a7",
   "metadata": {},
   "source": [
    "Импорт пользовательских функций."
   ]
  },
  {
   "cell_type": "code",
   "execution_count": 2,
   "id": "864bf95e",
   "metadata": {},
   "outputs": [],
   "source": [
    "from Functions.daub_5_3 import daub_5_3\n",
    "from Functions.daub_5_3_lift import daub_5_3_lift\n",
    "from Functions.idaub_5_3_lift import idaub_5_3_lift\n",
    "from Functions.user_functions import indx_even"
   ]
  },
  {
   "cell_type": "code",
   "execution_count": 3,
   "id": "974a847c",
   "metadata": {},
   "outputs": [],
   "source": [
    "#f = [1, -2, 6, 8]\n",
    "f = np.random.randint(low=-10, high=11, size=8)"
   ]
  },
  {
   "cell_type": "markdown",
   "id": "1c75e9be",
   "metadata": {},
   "source": [
    "## Прямое преобразование"
   ]
  },
  {
   "cell_type": "code",
   "execution_count": 4,
   "id": "585d4acf",
   "metadata": {},
   "outputs": [],
   "source": [
    "N = len(f)\n",
    "d = [0] * (N//2)\n",
    "a = [0] * (N//2)"
   ]
  },
  {
   "cell_type": "markdown",
   "id": "421f5198",
   "metadata": {},
   "source": [
    "### Исследование коэффициентов ${d}$"
   ]
  },
  {
   "cell_type": "code",
   "execution_count": 5,
   "id": "f27a9e6c",
   "metadata": {},
   "outputs": [],
   "source": [
    "# Функция вычисления коэффициентов флуктуации.\n",
    "def d_func(k, f, N, int_flag):\n",
    "    if int_flag:\n",
    "        return f[indx_even(2*k+1,N)] - (f[indx_even(2*k,N)] + f[indx_even(2*k+2,N)]) //2\n",
    "    else:\n",
    "        return f[indx_even(2*k+1,N)] - (f[indx_even(2*k,N)] + f[indx_even(2*k+2,N)]) /2"
   ]
  },
  {
   "cell_type": "code",
   "execution_count": 25,
   "id": "25328f6a",
   "metadata": {},
   "outputs": [
    {
     "data": {
      "image/png": "[encoded data removed]",
      "text/plain": [
       "<Figure size 1200x300 with 1 Axes>"
      ]
     },
     "metadata": {},
     "output_type": "display_data"
    }
   ],
   "source": [
    "n_gr = []\n",
    "d_gr = []\n",
    "for k in range(-N,2*N):\n",
    "    n_gr.append(k)\n",
    "    d_gr.append(d_func(k, f, N, int_flag=False))\n",
    "n_gr_N = []\n",
    "d_gr_N = []\n",
    "\n",
    "for k in range(N):\n",
    "    n_gr_N.append(k)\n",
    "    d_gr_N.append(d_func(k, f, N, int_flag=False))\n",
    "    \n",
    "import matplotlib.ticker as ticker\n",
    "'''\n",
    "fig, ax = plt.subplots()\n",
    "ax.plot(n_gr, d_gr, 'o')\n",
    "ax.plot(n_gr_N, d_gr_N, 'o')\n",
    "\n",
    "# Force integer ticks on x-axis\n",
    "ax.xaxis.set_major_locator(ticker.MaxNLocator(integer=True))\n",
    "\n",
    "plt.show()\n",
    "'''\n",
    "\n",
    "#user_figsize = (12, 6)\n",
    "user_fontsize = 16\n",
    "\n",
    "fig, ax = plt.subplots()\n",
    "fig.set_figheight(3)\n",
    "fig.set_figwidth(12)\n",
    "ax.plot(n_gr, d_gr, 'o')\n",
    "ax.plot(n_gr_N, d_gr_N, 'o')\n",
    "\n",
    "# Force integer ticks on x-axis\n",
    "ax.xaxis.set_major_locator(ticker.MaxNLocator(integer=True))\n",
    "plt.legend(['$k \\in \\mathbb{Z}$','k=[0;(N-1)]'])\n",
    "plt.title('Симметрия коэффициентов флуктуаций' + ' (N=' + str(N) + ')')\n",
    "plt.xlabel('k')\n",
    "plt.ylabel('$d_k$')\n",
    "plt.grid(True)\n",
    "plt.savefig('readme_img/d_symmetry.png', bbox_inches='tight')\n",
    "plt.show()"
   ]
  },
  {
   "cell_type": "markdown",
   "id": "22cda11b",
   "metadata": {},
   "source": [
    "Отсюда вывод: ${d_{-1} = d_0}$."
   ]
  },
  {
   "cell_type": "code",
   "execution_count": null,
   "id": "478ce454",
   "metadata": {},
   "outputs": [
    {
     "name": "stdout",
     "output_type": "stream",
     "text": [
      "a [8.25, 0.625, -4.25, -2.5]\n",
      "d [0.5, 6.0, 13.0, 5.0]\n"
     ]
    }
   ],
   "source": [
    "for k in range(N//2):\n",
    "    d[k] = f[indx_even(2*k+1,N)] - (f[indx_even(2*k,N)] + f[indx_even(2*k+2,N)])/2\n",
    "    if k == 0:\n",
    "        a[k] = f[indx_even(2*k,N)] + d[k] /2\n",
    "    else:\n",
    "        a[k] = f[indx_even(2*k,N)] + (d[k-1] + d[k]) /4\n",
    "    #a[k] = -1/8*(f[indx_even(2*k-2,N)] + f[indx_even(2*k+2,N)]) + 1/4*(f[indx_even(2*k-1,N)] + f[indx_even(2*k+1,N)]) + 3/4*f[indx_even(2*k,N)]\n",
    "print('a', a)\n",
    "print('d', d)"
   ]
  },
  {
   "cell_type": "markdown",
   "id": "ba3d6602",
   "metadata": {},
   "source": [
    "## Обратное преобразование"
   ]
  },
  {
   "cell_type": "code",
   "execution_count": null,
   "id": "6540ec96",
   "metadata": {},
   "outputs": [
    {
     "name": "stdout",
     "output_type": "stream",
     "text": [
      "[ 8  4 -1  1 -9  5 -7 -2]\n",
      "[8.0, 4.0, -1.0, 1.0, -9.0, 5.0, -7.0, -2.0]\n",
      "[0. 0. 0. 0. 0. 0. 0. 0.]\n"
     ]
    }
   ],
   "source": [
    "f_rec = [0] * N\n",
    "# Odd values.\n",
    "for k in range(N//2):\n",
    "    if k == 0:\n",
    "        f_rec[2*k] = a[k] - d[k] /2\n",
    "    else:\n",
    "        f_rec[2*k] = a[k] - (d[k-1] + d[k]) /4\n",
    "\n",
    "# Even values.\n",
    "for k in range(N//2):\n",
    "    f_rec[2*k+1] = d[k] + (f[2*k] + f[indx_even(2*k+2,N)])/2\n",
    "print(f)\n",
    "print(f_rec)\n",
    "print(f-f_rec)"
   ]
  },
  {
   "cell_type": "markdown",
   "id": "80b3cc60",
   "metadata": {},
   "source": [
    "## Прямое и обратное преобразование при помощи матричных операций"
   ]
  },
  {
   "cell_type": "code",
   "execution_count": null,
   "id": "47c270b2",
   "metadata": {},
   "outputs": [
    {
     "name": "stdout",
     "output_type": "stream",
     "text": [
      "Wavelet coefficients: [8.25, 0.625, -4.25, -2.5, 0.5, 6.0, 13.0, 5.0]\n",
      "Reconstruction: [8.0, 4.0, -1.0, 1.0, -9.0, 5.0, -7.0, -2.0]\n",
      "Original: [ 8  4 -1  1 -9  5 -7 -2]\n"
     ]
    }
   ],
   "source": [
    "Mdir = np.matrix(np.concatenate(daub_5_3(N), axis = 0))\n",
    "tr = np.matrix(f)*(Mdir.T)\n",
    "Mrev = np.linalg.inv(Mdir).T\n",
    "print('Wavelet coefficients:', tr.tolist()[0])\n",
    "print('Reconstruction:', (tr * Mrev).tolist()[0])\n",
    "print('Original:', f)"
   ]
  },
  {
   "cell_type": "code",
   "execution_count": null,
   "id": "1d9cb0f1",
   "metadata": {},
   "outputs": [
    {
     "data": {
      "text/plain": [
       "matrix([[ 1.,  0., -0.,  0.,  0.,  0.,  0.,  0.],\n",
       "        [-0.,  0.,  1.,  0., -0.,  0.,  0.,  0.],\n",
       "        [ 0.,  0., -0.,  0.,  1.,  0., -0.,  0.],\n",
       "        [ 0.,  0.,  0.,  0., -0.,  0.,  1.,  0.],\n",
       "        [-0.,  1., -0.,  0.,  0.,  0.,  0.,  0.],\n",
       "        [ 0.,  0., -0.,  1., -0.,  0.,  0.,  0.],\n",
       "        [ 0.,  0.,  0.,  0., -0.,  1., -0.,  0.],\n",
       "        [ 0.,  0.,  0.,  0.,  0.,  0., -1.,  1.]])"
      ]
     },
     "execution_count": 34,
     "metadata": {},
     "output_type": "execute_result"
    }
   ],
   "source": [
    "np.round(Mdir)"
   ]
  },
  {
   "cell_type": "markdown",
   "id": "8db114f7",
   "metadata": {},
   "source": [
    "## Целочисленные преобразования"
   ]
  },
  {
   "cell_type": "markdown",
   "id": "708078ff",
   "metadata": {},
   "source": [
    "Созданы функции lifting-преобразования."
   ]
  },
  {
   "cell_type": "code",
   "execution_count": null,
   "id": "c2fabd6f",
   "metadata": {},
   "outputs": [
    {
     "name": "stdout",
     "output_type": "stream",
     "text": [
      "[8.25, 0.625, -4.25, -2.5, 0.5, 6.0, 13.0, 5.0]\n",
      "[8, 0, -5, -3, 1, 6, 13, 5]\n"
     ]
    }
   ],
   "source": [
    "# float-преобразование.\n",
    "coeff_float = daub_5_3_lift(f, int_flag=False)\n",
    "print(coeff_float)\n",
    "\n",
    "# int-преобразование.\n",
    "coeff_int = daub_5_3_lift(f, int_flag=True)\n",
    "print(coeff_int)"
   ]
  },
  {
   "cell_type": "markdown",
   "id": "0d6608fb",
   "metadata": {},
   "source": [
    "Обратное преобразование, также по lifting-схеме."
   ]
  },
  {
   "cell_type": "code",
   "execution_count": null,
   "id": "b9ded8a4",
   "metadata": {},
   "outputs": [
    {
     "name": "stdout",
     "output_type": "stream",
     "text": [
      "[8.0, 4.0, -1.0, 1.0, -9.0, 5.0, -7.0, -2.0]\n",
      "[8, 4, -1, 1, -9, 5, -7, -2]\n"
     ]
    }
   ],
   "source": [
    "# float-преобразование.\n",
    "f_float = idaub_5_3_lift(coeff_float, int_flag=False)\n",
    "print(f_float)\n",
    "\n",
    "# int-преобразование.\n",
    "f_int = idaub_5_3_lift(coeff_int, int_flag=True)\n",
    "print(f_int)"
   ]
  }
 ],
 "metadata": {
  "kernelspec": {
   "display_name": "Python 3",
   "language": "python",
   "name": "python3"
  },
  "language_info": {
   "codemirror_mode": {
    "name": "ipython",
    "version": 3
   },
   "file_extension": ".py",
   "mimetype": "text/x-python",
   "name": "python",
   "nbconvert_exporter": "python",
   "pygments_lexer": "ipython3",
   "version": "3.11.0"
  }
 },
 "nbformat": 4,
 "nbformat_minor": 5
}
