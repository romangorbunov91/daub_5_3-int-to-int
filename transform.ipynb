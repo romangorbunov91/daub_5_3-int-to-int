{
 "cells": [
  {
   "cell_type": "markdown",
   "id": "aa47fd2a",
   "metadata": {},
   "source": [
    "# Daub 5/3 integer-to-integer system"
   ]
  },
  {
   "cell_type": "code",
   "execution_count": 222,
   "id": "6db9f708",
   "metadata": {},
   "outputs": [],
   "source": [
    "import numpy as np\n",
    "import matplotlib.pyplot as plt\n",
    "import matplotlib.ticker as ticker"
   ]
  },
  {
   "cell_type": "markdown",
   "id": "d2fef9a7",
   "metadata": {},
   "source": [
    "Импорт пользовательских функций."
   ]
  },
  {
   "cell_type": "code",
   "execution_count": 223,
   "id": "864bf95e",
   "metadata": {},
   "outputs": [],
   "source": [
    "from Functions.user_functions import indx_even\n",
    "from Functions.daub_5_3 import daub_5_3\n",
    "from Functions.daub_5_3_lift import daub_5_3_lift\n",
    "from Functions.idaub_5_3_lift import idaub_5_3_lift\n",
    "from Functions.daub_5_3_lift_2D import daub_5_3_lift_2D\n",
    "from Functions.idaub_5_3_lift_2D import idaub_5_3_lift_2D"
   ]
  },
  {
   "cell_type": "code",
   "execution_count": 224,
   "id": "974a847c",
   "metadata": {},
   "outputs": [],
   "source": [
    "f = np.random.randint(low=-10, high=11, size=8)\n",
    "N = len(f)\n",
    "d = [0] * (N//2)\n",
    "a = [0] * (N//2)"
   ]
  },
  {
   "cell_type": "markdown",
   "id": "421f5198",
   "metadata": {},
   "source": [
    "### Исследование коэффициентов ${d}$"
   ]
  },
  {
   "cell_type": "code",
   "execution_count": 225,
   "id": "f27a9e6c",
   "metadata": {},
   "outputs": [],
   "source": [
    "# Функция вычисления коэффициентов флуктуации.\n",
    "def d_func(k, f, N, int_flag):\n",
    "    if int_flag:\n",
    "        return f[indx_even(2*k+1,N)] - (f[indx_even(2*k,N)] + f[indx_even(2*k+2,N)]) //2\n",
    "    else:\n",
    "        return f[indx_even(2*k+1,N)] - (f[indx_even(2*k,N)] + f[indx_even(2*k+2,N)]) /2"
   ]
  },
  {
   "cell_type": "code",
   "execution_count": 226,
   "id": "25328f6a",
   "metadata": {},
   "outputs": [
    {
     "data": {
      "image/png": "[encoded data removed]",
      "text/plain": [
       "<Figure size 1200x300 with 1 Axes>"
      ]
     },
     "metadata": {},
     "output_type": "display_data"
    }
   ],
   "source": [
    "n_gr = []\n",
    "d_gr = []\n",
    "for k in range(-N,2*N):\n",
    "    n_gr.append(k)\n",
    "    d_gr.append(d_func(k, f, N, int_flag=False))\n",
    "n_gr_N = []\n",
    "d_gr_N = []\n",
    "\n",
    "for k in range(N):\n",
    "    n_gr_N.append(k)\n",
    "    d_gr_N.append(d_func(k, f, N, int_flag=False))\n",
    "    \n",
    "fig, ax = plt.subplots()\n",
    "fig.set_figheight(3)\n",
    "fig.set_figwidth(12)\n",
    "ax.plot(n_gr, d_gr, 'o')\n",
    "ax.plot(n_gr_N, d_gr_N, 'o')\n",
    "\n",
    "# Force integer ticks on x-axis\n",
    "ax.xaxis.set_major_locator(ticker.MaxNLocator(integer=True))\n",
    "plt.legend(['$k \\in \\mathbb{Z}$','k=[0;(N-1)]'])\n",
    "plt.title('Симметрия коэффициентов флуктуаций' + ' (N=' + str(N) + ')')\n",
    "plt.xlabel('k')\n",
    "plt.ylabel('$d_k$')\n",
    "plt.grid(True)\n",
    "plt.savefig('readme_img/d_symmetry.png', bbox_inches='tight')\n",
    "plt.show()"
   ]
  },
  {
   "cell_type": "markdown",
   "id": "22cda11b",
   "metadata": {},
   "source": [
    "Отсюда вывод: ${d_{-1} = d_0}$."
   ]
  },
  {
   "cell_type": "markdown",
   "id": "db5b29f2",
   "metadata": {},
   "source": [
    "## Прямое преобразование"
   ]
  },
  {
   "cell_type": "code",
   "execution_count": 227,
   "id": "478ce454",
   "metadata": {},
   "outputs": [
    {
     "name": "stdout",
     "output_type": "stream",
     "text": [
      "a [-4.25, 1.25, -6.875, -4.75]\n",
      "d [-6.5, -4.5, 5.0, 12.0]\n"
     ]
    }
   ],
   "source": [
    "for k in range(N//2):\n",
    "    d[k] = f[indx_even(2*k+1,N)] - (f[indx_even(2*k,N)] + f[indx_even(2*k+2,N)])/2\n",
    "    if k == 0:\n",
    "        a[k] = f[indx_even(2*k,N)] + d[k] /2\n",
    "    else:\n",
    "        a[k] = f[indx_even(2*k,N)] + (d[k-1] + d[k]) /4\n",
    "    #a[k] = -1/8*(f[indx_even(2*k-2,N)] + f[indx_even(2*k+2,N)]) + 1/4*(f[indx_even(2*k-1,N)] + f[indx_even(2*k+1,N)]) + 3/4*f[indx_even(2*k,N)]\n",
    "print('a', a)\n",
    "print('d', d)"
   ]
  },
  {
   "cell_type": "markdown",
   "id": "ba3d6602",
   "metadata": {},
   "source": [
    "## Обратное преобразование"
   ]
  },
  {
   "cell_type": "code",
   "execution_count": 228,
   "id": "6540ec96",
   "metadata": {},
   "outputs": [
    {
     "name": "stdout",
     "output_type": "stream",
     "text": [
      "Reconstruction: [-1.0, -5.0, 4.0, -6.0, -7.0, -3.0, -9.0, 3.0]\n",
      "Original: [-1 -5  4 -6 -7 -3 -9  3]\n",
      "Difference: [0. 0. 0. 0. 0. 0. 0. 0.]\n"
     ]
    }
   ],
   "source": [
    "f_rec = [0] * N\n",
    "# Odd values.\n",
    "for k in range(N//2):\n",
    "    if k == 0:\n",
    "        f_rec[2*k] = a[k] - d[k] /2\n",
    "    else:\n",
    "        f_rec[2*k] = a[k] - (d[k-1] + d[k]) /4\n",
    "\n",
    "# Even values.\n",
    "for k in range(N//2):\n",
    "    f_rec[2*k+1] = d[k] + (f[2*k] + f[indx_even(2*k+2,N)])/2\n",
    "print('Reconstruction:', f_rec)\n",
    "print('Original:', f)\n",
    "print('Difference:', f-f_rec)"
   ]
  },
  {
   "cell_type": "markdown",
   "id": "80b3cc60",
   "metadata": {},
   "source": [
    "## Прямое и обратное преобразование при помощи матричных операций"
   ]
  },
  {
   "cell_type": "code",
   "execution_count": 229,
   "id": "47c270b2",
   "metadata": {},
   "outputs": [
    {
     "name": "stdout",
     "output_type": "stream",
     "text": [
      "Wavelet coefficients: [-4.25, 1.25, -6.875, -4.75, -6.5, -4.5, 5.0, 12.0]\n",
      "Reconstruction: [-1.0, -5.0, 4.0, -6.0, -7.0, -3.0, -9.0, 3.0]\n",
      "Original: [-1 -5  4 -6 -7 -3 -9  3]\n",
      "Difference: [0. 0. 0. 0. 0. 0. 0. 0.]\n"
     ]
    }
   ],
   "source": [
    "Mdir = np.matrix(np.concatenate(daub_5_3(N), axis = 0))\n",
    "tr = np.matrix(f)*(Mdir.T)\n",
    "Mrev = np.linalg.inv(Mdir).T\n",
    "print('Wavelet coefficients:', tr.tolist()[0])\n",
    "print('Reconstruction:', (tr * Mrev).tolist()[0])\n",
    "print('Original:', f)\n",
    "print('Difference:', f-(tr * Mrev).tolist()[0])"
   ]
  },
  {
   "cell_type": "markdown",
   "id": "8db114f7",
   "metadata": {},
   "source": [
    "## Целочисленные преобразования"
   ]
  },
  {
   "cell_type": "markdown",
   "id": "708078ff",
   "metadata": {},
   "source": [
    "Созданы функции lifting-преобразования."
   ]
  },
  {
   "cell_type": "code",
   "execution_count": 230,
   "id": "c2fabd6f",
   "metadata": {},
   "outputs": [
    {
     "name": "stdout",
     "output_type": "stream",
     "text": [
      "[-4.25   1.25  -6.875 -4.75  -6.5   -4.5    5.    12.   ]\n",
      "[-4  1 -7 -5 -7 -5  5 12]\n"
     ]
    }
   ],
   "source": [
    "# float-преобразование.\n",
    "coeff_float = daub_5_3_lift(f, int_flag=False)\n",
    "print(coeff_float)\n",
    "\n",
    "# int-преобразование.\n",
    "coeff_int = daub_5_3_lift(f, int_flag=True)\n",
    "print(coeff_int)"
   ]
  },
  {
   "cell_type": "markdown",
   "id": "0d6608fb",
   "metadata": {},
   "source": [
    "Обратное преобразование, также по lifting-схеме."
   ]
  },
  {
   "cell_type": "code",
   "execution_count": 231,
   "id": "b9ded8a4",
   "metadata": {},
   "outputs": [
    {
     "name": "stdout",
     "output_type": "stream",
     "text": [
      "float64\n",
      "[-1.0, -5.0, 4.0, -6.0, -7.0, -3.0, -9.0, 3.0]\n",
      "int32\n",
      "[-1, -5, 4, -6, -7, -3, -9, 3]\n",
      "Difference: [0.0, 0.0, 0.0, 0.0, 0.0, 0.0, 0.0, 0.0]\n"
     ]
    }
   ],
   "source": [
    "# float-преобразование.\n",
    "f_float = idaub_5_3_lift(coeff_float, int_flag=False)\n",
    "print(np.array(f_float).dtype)\n",
    "print(f_float)\n",
    "\n",
    "# int-преобразование.\n",
    "f_int = idaub_5_3_lift(coeff_int, int_flag=True)\n",
    "print(np.array(f_int).dtype)\n",
    "print(f_int)\n",
    "\n",
    "print('Difference:', [a - b for a, b in zip(f_float, f_int)])"
   ]
  },
  {
   "cell_type": "markdown",
   "id": "bdf8b505",
   "metadata": {},
   "source": [
    "## 2D-преобразование"
   ]
  },
  {
   "cell_type": "markdown",
   "id": "bb060a85",
   "metadata": {},
   "source": [
    "Формируем двумерный массив."
   ]
  },
  {
   "cell_type": "code",
   "execution_count": 238,
   "id": "c772f781",
   "metadata": {},
   "outputs": [
    {
     "name": "stdout",
     "output_type": "stream",
     "text": [
      "[[ -1  -4  -9 -10  -2 -10   8  -6]\n",
      " [  5  -8  -9   0   3 -10   8  -7]\n",
      " [  9  -7  -2   8  -9  -2   6  -9]\n",
      " [ -5  -4  -2   0   0   7   3   3]\n",
      " [ -4  -9   6  -7   9   8   2  -8]\n",
      " [  1   1 -10   4  -5  -8   9   6]\n",
      " [ -6   4  -2 -10   7   6 -10  -6]\n",
      " [ -8  -8  -1   4   9   9   9   7]\n",
      " [  9  -7   4  -8  -4  -8   1  -4]\n",
      " [  2   9  10 -10   9  -4   3  -2]]\n"
     ]
    }
   ],
   "source": [
    "g = np.random.randint(low=-10, high=11, size=10*8).reshape(10,8)\n",
    "print(g)"
   ]
  },
  {
   "cell_type": "markdown",
   "id": "1dbdc1df",
   "metadata": {},
   "source": [
    "### Прямое преобразование"
   ]
  },
  {
   "cell_type": "code",
   "execution_count": 239,
   "id": "7d65bff0",
   "metadata": {},
   "outputs": [
    {
     "name": "stdout",
     "output_type": "stream",
     "text": [
      "float64\n",
      "[[ -2.5       -0.125     -6.25       0.875      7.        -7.5\n",
      "    2.5        1.      ]\n",
      " [  5.375      4.5625    -6.5       -0.25      -7.25      11.5\n",
      "    4.5       -7.5     ]\n",
      " [ -8.25       3.6875     7.5       -4.9375   -12.5      -20.75\n",
      "    4.75      -8.5     ]\n",
      " [  1.         0.6875     3.5625   -14.25       7.       -18.25\n",
      "   12.5        6.5     ]\n",
      " [  5.375     -3.375    -12.9375    -5.75     -13.25       1.75\n",
      "   -1.5       -1.5     ]\n",
      " [  2.71875   -8.640625  -3.3125     0.53125   -6.0625     4.\n",
      "  -13.75     -16.625   ]\n",
      " [ -5.96875    0.1875     1.875      3.078125  -5.4375    -1.3125\n",
      "    7.8125    -4.      ]\n",
      " [  1.9375    -4.65625   -1.859375   0.953125   4.125      1.75\n",
      "   -5.6875    -3.5     ]\n",
      " [ -8.15625   -2.546875   6.65625    3.5       -5.0625    -4.125\n",
      "    2.75      -0.75    ]\n",
      " [  6.1875     4.1875    -4.84375   -3.625     -3.625    -18.625\n",
      "  -10.75      -5.75    ]]\n"
     ]
    }
   ],
   "source": [
    "# float-преобразование.\n",
    "coeff_2D_float = daub_5_3_lift_2D(g, int_flag=False)\n",
    "print(coeff_2D_float.dtype)\n",
    "print(coeff_2D_float)"
   ]
  },
  {
   "cell_type": "code",
   "execution_count": 240,
   "id": "c7f6a497",
   "metadata": {},
   "outputs": [
    {
     "name": "stdout",
     "output_type": "stream",
     "text": [
      "int32\n",
      "[[ -2   0  -6   1   7  -8   3   1]\n",
      " [  5   5  -7   0  -8  11   4  -8]\n",
      " [ -9   4   7  -5 -12 -21   4  -9]\n",
      " [  1   1   4 -15   7 -19  12   6]\n",
      " [  5  -3 -14  -6 -14   2  -2  -2]\n",
      " [  3  -9  -3   0  -6   4 -14 -17]\n",
      " [ -6   0   2   3  -6  -1   7  -4]\n",
      " [  2  -5  -2   1   4   1  -6  -4]\n",
      " [ -8  -2   7   4  -6  -4   3  -1]\n",
      " [  7   5  -5  -4  -4 -19 -11  -6]]\n"
     ]
    }
   ],
   "source": [
    "# int-преобразование.\n",
    "coeff_2D_int = daub_5_3_lift_2D(g, int_flag=True)\n",
    "print(coeff_2D_int.dtype)\n",
    "print(coeff_2D_int)"
   ]
  },
  {
   "cell_type": "code",
   "execution_count": 241,
   "id": "2407ca6b",
   "metadata": {},
   "outputs": [
    {
     "name": "stdout",
     "output_type": "stream",
     "text": [
      "3541.0\n",
      "4422.0\n"
     ]
    }
   ],
   "source": [
    "print(np.sum(g.astype(float)**2))\n",
    "print(np.sum(coeff_2D_int.astype(float)**2))"
   ]
  },
  {
   "cell_type": "markdown",
   "id": "14b59d65",
   "metadata": {},
   "source": [
    "### Обратное преобразование"
   ]
  },
  {
   "cell_type": "code",
   "execution_count": null,
   "id": "f62a0a3a",
   "metadata": {},
   "outputs": [
    {
     "name": "stdout",
     "output_type": "stream",
     "text": [
      "[[ -1.  -4.  -9. -10.  -2. -10.   8.  -6.]\n",
      " [  5.  -8.  -9.   0.   3. -10.   8.  -7.]\n",
      " [  9.  -7.  -2.   8.  -9.  -2.   6.  -9.]\n",
      " [ -5.  -4.  -2.   0.   0.   7.   3.   3.]\n",
      " [ -4.  -9.   6.  -7.   9.   8.   2.  -8.]\n",
      " [  1.   1. -10.   4.  -5.  -8.   9.   6.]\n",
      " [ -6.   4.  -2. -10.   7.   6. -10.  -6.]\n",
      " [ -8.  -8.  -1.   4.   9.   9.   9.   7.]\n",
      " [  9.  -7.   4.  -8.  -4.  -8.   1.  -4.]\n",
      " [  2.   9.  10. -10.   9.  -4.   3.  -2.]]\n",
      "Difference (sum): 0.0\n"
     ]
    }
   ],
   "source": [
    "g_float = idaub_5_3_lift_2D(coeff_2D_float, int_flag=False)\n",
    "print(g_float)\n",
    "print('Difference (sum):', np.sum((g-g_float)**2))"
   ]
  },
  {
   "cell_type": "code",
   "execution_count": 248,
   "id": "9d396fa5",
   "metadata": {},
   "outputs": [
    {
     "name": "stdout",
     "output_type": "stream",
     "text": [
      "[[ -1  -4  -9 -10  -2 -10   8  -6]\n",
      " [  5  -8  -9   0   3 -10   8  -7]\n",
      " [  9  -7  -2   8  -9  -2   6  -9]\n",
      " [ -5  -4  -2   0   0   7   3   3]\n",
      " [ -4  -9   6  -7   9   8   2  -8]\n",
      " [  1   1 -10   4  -5  -8   9   6]\n",
      " [ -6   4  -2 -10   7   6 -10  -6]\n",
      " [ -8  -8  -1   4   9   9   9   7]\n",
      " [  9  -7   4  -8  -4  -8   1  -4]\n",
      " [  2   9  10 -10   9  -4   3  -2]]\n",
      "Difference (sum): 0.0\n"
     ]
    }
   ],
   "source": [
    "g_int = idaub_5_3_lift_2D(coeff_2D_int, int_flag=True)\n",
    "print(g_int)\n",
    "print('Difference (sum):', np.sum((g-g_int).astype(float)**2))"
   ]
  }
 ],
 "metadata": {
  "kernelspec": {
   "display_name": "Python 3",
   "language": "python",
   "name": "python3"
  },
  "language_info": {
   "codemirror_mode": {
    "name": "ipython",
    "version": 3
   },
   "file_extension": ".py",
   "mimetype": "text/x-python",
   "name": "python",
   "nbconvert_exporter": "python",
   "pygments_lexer": "ipython3",
   "version": "3.11.0"
  }
 },
 "nbformat": 4,
 "nbformat_minor": 5
}
