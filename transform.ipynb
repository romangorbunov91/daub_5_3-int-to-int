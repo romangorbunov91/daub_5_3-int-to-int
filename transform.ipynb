{
 "cells": [
  {
   "cell_type": "markdown",
   "id": "aa47fd2a",
   "metadata": {},
   "source": [
    "# Daub 5/3 integer-to-integer system"
   ]
  },
  {
   "cell_type": "code",
   "execution_count": 1,
   "id": "6db9f708",
   "metadata": {},
   "outputs": [],
   "source": [
    "import numpy as np\n",
    "import matplotlib.pyplot as plt\n",
    "import matplotlib.ticker as ticker"
   ]
  },
  {
   "cell_type": "markdown",
   "id": "d2fef9a7",
   "metadata": {},
   "source": [
    "Импорт пользовательских функций."
   ]
  },
  {
   "cell_type": "code",
   "execution_count": 2,
   "id": "864bf95e",
   "metadata": {},
   "outputs": [],
   "source": [
    "from Functions.user_functions import indx_even\n",
    "from Functions.daub_5_3 import daub_5_3\n",
    "from Functions.daub_5_3_lift import daub_5_3_lift\n",
    "from Functions.idaub_5_3_lift import idaub_5_3_lift\n",
    "from Functions.daub_5_3_lift_2D import daub_5_3_lift_2D\n",
    "from Functions.idaub_5_3_lift_2D import idaub_5_3_lift_2D"
   ]
  },
  {
   "cell_type": "code",
   "execution_count": 3,
   "id": "974a847c",
   "metadata": {},
   "outputs": [],
   "source": [
    "f = np.random.randint(low=-10, high=11, size=8)\n",
    "N = len(f)\n",
    "d = [0] * (N//2)\n",
    "a = [0] * (N//2)"
   ]
  },
  {
   "cell_type": "markdown",
   "id": "421f5198",
   "metadata": {},
   "source": [
    "### Исследование коэффициентов ${d}$"
   ]
  },
  {
   "cell_type": "code",
   "execution_count": 4,
   "id": "f27a9e6c",
   "metadata": {},
   "outputs": [],
   "source": [
    "# Функция вычисления коэффициентов флуктуации.\n",
    "def d_func(k, f, N, int_flag):\n",
    "    if int_flag:\n",
    "        return f[indx_even(2*k+1,N)] - (f[indx_even(2*k,N)] + f[indx_even(2*k+2,N)]) //2\n",
    "    else:\n",
    "        return f[indx_even(2*k+1,N)] - (f[indx_even(2*k,N)] + f[indx_even(2*k+2,N)]) /2"
   ]
  },
  {
   "cell_type": "code",
   "execution_count": 5,
   "id": "25328f6a",
   "metadata": {},
   "outputs": [
    {
     "data": {
      "image/png": "[encoded data removed]",
      "text/plain": [
       "<Figure size 1200x300 with 1 Axes>"
      ]
     },
     "metadata": {},
     "output_type": "display_data"
    }
   ],
   "source": [
    "n_gr = []\n",
    "d_gr = []\n",
    "for k in range(-N,2*N):\n",
    "    n_gr.append(k)\n",
    "    d_gr.append(d_func(k, f, N, int_flag=False))\n",
    "n_gr_N = []\n",
    "d_gr_N = []\n",
    "\n",
    "for k in range(N):\n",
    "    n_gr_N.append(k)\n",
    "    d_gr_N.append(d_func(k, f, N, int_flag=False))\n",
    "    \n",
    "fig, ax = plt.subplots()\n",
    "fig.set_figheight(3)\n",
    "fig.set_figwidth(12)\n",
    "ax.plot(n_gr, d_gr, 'o')\n",
    "ax.plot(n_gr_N, d_gr_N, 'o')\n",
    "\n",
    "# Force integer ticks on x-axis\n",
    "ax.xaxis.set_major_locator(ticker.MaxNLocator(integer=True))\n",
    "plt.legend(['$k \\in \\mathbb{Z}$','k=[0;(N-1)]'])\n",
    "plt.title('Симметрия коэффициентов флуктуаций' + ' (N=' + str(N) + ')')\n",
    "plt.xlabel('k')\n",
    "plt.ylabel('$d_k$')\n",
    "plt.grid(True)\n",
    "plt.savefig('readme_img/d_symmetry.png', bbox_inches='tight')\n",
    "plt.show()"
   ]
  },
  {
   "cell_type": "markdown",
   "id": "22cda11b",
   "metadata": {},
   "source": [
    "Отсюда вывод: ${d_{-1} = d_0}$."
   ]
  },
  {
   "cell_type": "markdown",
   "id": "db5b29f2",
   "metadata": {},
   "source": [
    "## Прямое преобразование"
   ]
  },
  {
   "cell_type": "code",
   "execution_count": 6,
   "id": "478ce454",
   "metadata": {},
   "outputs": [
    {
     "name": "stdout",
     "output_type": "stream",
     "text": [
      "a [-3.0, 5.75, -8.625, -5.875]\n",
      "d [-4.0, -1.0, 2.5, -2.0]\n"
     ]
    }
   ],
   "source": [
    "for k in range(N//2):\n",
    "    d[k] = f[indx_even(2*k+1,N)] - (f[indx_even(2*k,N)] + f[indx_even(2*k+2,N)])/2\n",
    "    if k == 0:\n",
    "        a[k] = f[indx_even(2*k,N)] + d[k] /2\n",
    "    else:\n",
    "        a[k] = f[indx_even(2*k,N)] + (d[k-1] + d[k]) /4\n",
    "    #a[k] = -1/8*(f[indx_even(2*k-2,N)] + f[indx_even(2*k+2,N)]) + 1/4*(f[indx_even(2*k-1,N)] + f[indx_even(2*k+1,N)]) + 3/4*f[indx_even(2*k,N)]\n",
    "print('a', a)\n",
    "print('d', d)"
   ]
  },
  {
   "cell_type": "markdown",
   "id": "ba3d6602",
   "metadata": {},
   "source": [
    "## Обратное преобразование"
   ]
  },
  {
   "cell_type": "code",
   "execution_count": 7,
   "id": "6540ec96",
   "metadata": {},
   "outputs": [
    {
     "name": "stdout",
     "output_type": "stream",
     "text": [
      "Reconstruction: [-1.0, -1.0, 7.0, -2.0, -9.0, -5.0, -6.0, -8.0]\n",
      "Original: [-1 -1  7 -2 -9 -5 -6 -8]\n",
      "Difference: [0. 0. 0. 0. 0. 0. 0. 0.]\n"
     ]
    }
   ],
   "source": [
    "f_rec = [0] * N\n",
    "# Odd values.\n",
    "for k in range(N//2):\n",
    "    if k == 0:\n",
    "        f_rec[2*k] = a[k] - d[k] /2\n",
    "    else:\n",
    "        f_rec[2*k] = a[k] - (d[k-1] + d[k]) /4\n",
    "\n",
    "# Even values.\n",
    "for k in range(N//2):\n",
    "    f_rec[2*k+1] = d[k] + (f[2*k] + f[indx_even(2*k+2,N)])/2\n",
    "print('Reconstruction:', f_rec)\n",
    "print('Original:', f)\n",
    "print('Difference:', f-f_rec)"
   ]
  },
  {
   "cell_type": "markdown",
   "id": "80b3cc60",
   "metadata": {},
   "source": [
    "## Прямое и обратное преобразование при помощи матричных операций"
   ]
  },
  {
   "cell_type": "code",
   "execution_count": 8,
   "id": "47c270b2",
   "metadata": {},
   "outputs": [
    {
     "name": "stdout",
     "output_type": "stream",
     "text": [
      "Wavelet coefficients: [-3.0, 5.75, -8.625, -5.875, -4.0, -1.0, 2.5, -2.0]\n",
      "Reconstruction: [-1.0, -1.0, 7.0, -2.0, -9.0, -5.0, -6.0, -8.0]\n",
      "Original: [-1 -1  7 -2 -9 -5 -6 -8]\n",
      "Difference: [0. 0. 0. 0. 0. 0. 0. 0.]\n"
     ]
    }
   ],
   "source": [
    "Mdir = np.matrix(np.concatenate(daub_5_3(N), axis = 0))\n",
    "tr = np.matrix(f)*(Mdir.T)\n",
    "Mrev = np.linalg.inv(Mdir).T\n",
    "print('Wavelet coefficients:', tr.tolist()[0])\n",
    "print('Reconstruction:', (tr * Mrev).tolist()[0])\n",
    "print('Original:', f)\n",
    "print('Difference:', f-(tr * Mrev).tolist()[0])"
   ]
  },
  {
   "cell_type": "markdown",
   "id": "8db114f7",
   "metadata": {},
   "source": [
    "## Целочисленные преобразования"
   ]
  },
  {
   "cell_type": "markdown",
   "id": "708078ff",
   "metadata": {},
   "source": [
    "Созданы функции lifting-преобразования."
   ]
  },
  {
   "cell_type": "code",
   "execution_count": 9,
   "id": "c2fabd6f",
   "metadata": {},
   "outputs": [
    {
     "name": "stdout",
     "output_type": "stream",
     "text": [
      "[-3.     5.75  -8.625 -5.875 -4.    -1.     2.5   -2.   ]\n",
      "[-3  6 -9 -6 -4 -1  2 -2]\n"
     ]
    }
   ],
   "source": [
    "# float-преобразование.\n",
    "coeff_float = daub_5_3_lift(f, int_flag=False)\n",
    "print(coeff_float)\n",
    "\n",
    "# int-преобразование.\n",
    "coeff_int = daub_5_3_lift(f, int_flag=True)\n",
    "print(coeff_int)"
   ]
  },
  {
   "cell_type": "markdown",
   "id": "0d6608fb",
   "metadata": {},
   "source": [
    "Обратное преобразование, также по lifting-схеме."
   ]
  },
  {
   "cell_type": "code",
   "execution_count": 19,
   "id": "b9ded8a4",
   "metadata": {},
   "outputs": [
    {
     "name": "stdout",
     "output_type": "stream",
     "text": [
      "float64\n",
      "[-1.0, -1.0, 7.0, -2.0, -9.0, -5.0, -6.0, -8.0]\n",
      "int32\n",
      "[-1, -1, 7, -2, -9, -5, -6, -8]\n",
      "Difference: [0.0, 0.0, 0.0, 0.0, 0.0, 0.0, 0.0, 0.0]\n"
     ]
    }
   ],
   "source": [
    "# float-преобразование.\n",
    "f_float = idaub_5_3_lift(coeff_float, int_flag=False)\n",
    "print(np.array(f_float).dtype)\n",
    "print(f_float)\n",
    "\n",
    "# int-преобразование.\n",
    "f_int = idaub_5_3_lift(coeff_int, int_flag=True)\n",
    "print(np.array(f_int).dtype)\n",
    "print(f_int)\n",
    "\n",
    "print('Difference:', [a - b for a, b in zip(f_float, f_int)])"
   ]
  },
  {
   "cell_type": "markdown",
   "id": "bdf8b505",
   "metadata": {},
   "source": [
    "## 2D-преобразование"
   ]
  },
  {
   "cell_type": "markdown",
   "id": "bb060a85",
   "metadata": {},
   "source": [
    "Формируем двумерный массив."
   ]
  },
  {
   "cell_type": "code",
   "execution_count": 11,
   "id": "c772f781",
   "metadata": {},
   "outputs": [
    {
     "name": "stdout",
     "output_type": "stream",
     "text": [
      "[[ -7   4   6  -4  -2   4  -2  -9]\n",
      " [  1  -7 -10   4   2   0  -9  -4]\n",
      " [  0  10  -2  10   0  -8   3  -5]\n",
      " [ -8   7   3  -7  -2   8   2  -5]\n",
      " [ 10  -2   1  -3  -3   1  -5   5]\n",
      " [  2   2  10   7   2  -1  -1  -1]\n",
      " [  4   4  -2  -9 -10  -6  -5  -6]\n",
      " [ -3  -2  -7  -9  -6  -7  -7   5]\n",
      " [  3   9  -5   5  -4  -5   7   7]\n",
      " [  9   0   4   8  -9  -4   8  -2]]\n"
     ]
    }
   ],
   "source": [
    "g = np.random.randint(low=-10, high=11, size=10*8).reshape(10,8)\n",
    "print(g)"
   ]
  },
  {
   "cell_type": "markdown",
   "id": "1dbdc1df",
   "metadata": {},
   "source": [
    "### Прямое преобразование"
   ]
  },
  {
   "cell_type": "code",
   "execution_count": 21,
   "id": "7d65bff0",
   "metadata": {},
   "outputs": [
    {
     "name": "stdout",
     "output_type": "stream",
     "text": [
      "float64\n",
      "[[ -4.5       14.25      -6.875      4.625      7.       -14.\n",
      "    2.5      -12.      ]\n",
      " [  7.25       6.0625    -1.125      0.9375     7.5       10.75\n",
      "  -15.25      -7.      ]\n",
      " [  7.875     -7.75      -2.25      -1.6875   -10.25       1.25\n",
      "    1.75      13.5     ]\n",
      " [  6.25      -3.1875    -7.9375    -2.125      3.5       -2.25\n",
      "    2.5       -7.      ]\n",
      " [  5.875      0.8125     3.75       5.125     11.75       5.5\n",
      "   -4.5       -1.      ]\n",
      " [  0.4375    -3.546875   2.875     -5.484375   1.125      7.1875\n",
      "    0.3125     0.25    ]\n",
      " [  0.53125    3.078125  -2.71875    2.0625     8.8125    -4.5\n",
      "    4.625     -5.375   ]\n",
      " [  3.53125    6.515625  -0.671875  -2.328125  -5.6875     0.75\n",
      "   -0.4375     1.625   ]\n",
      " [  1.53125   -7.46875   -7.796875  -3.375      6.8125    -1.6875\n",
      "   -1.        10.      ]\n",
      " [  8.6875     5.40625   -5.375      7.1875    -0.625     13.25\n",
      "   -5.75     -10.5     ]]\n"
     ]
    }
   ],
   "source": [
    "# float-преобразование.\n",
    "coeff_2D_float = daub_5_3_lift_2D(g, int_flag=False)\n",
    "print(coeff_2D_float.dtype)\n",
    "print(coeff_2D_float)"
   ]
  },
  {
   "cell_type": "code",
   "execution_count": 23,
   "id": "c7f6a497",
   "metadata": {},
   "outputs": [
    {
     "name": "stdout",
     "output_type": "stream",
     "text": [
      "int32\n",
      "[[ -5  15  -7   5   7 -14   3 -12]\n",
      " [  7   7  -2   1   8  11 -16  -7]\n",
      " [  7  -7  -2  -2 -11   1   2  13]\n",
      " [  6  -3  -8  -3   3  -2   2  -7]\n",
      " [  5   1   4   4  12   5  -5  -1]\n",
      " [  1  -3   3  -5   1   7   0   0]\n",
      " [  1   3  -3   2   8  -5   5  -5]\n",
      " [  3   7   0  -2  -6   1  -1   2]\n",
      " [  2  -7  -8  -4   7  -2  -2  10]\n",
      " [  9   6  -5   7  -1  13  -6 -10]]\n"
     ]
    }
   ],
   "source": [
    "# int-преобразование.\n",
    "coeff_2D_int = daub_5_3_lift_2D(g, int_flag=True)\n",
    "print(coeff_2D_int.dtype)\n",
    "print(coeff_2D_int)"
   ]
  },
  {
   "cell_type": "markdown",
   "id": "14b59d65",
   "metadata": {},
   "source": [
    "### Обратное преобразование"
   ]
  },
  {
   "cell_type": "code",
   "execution_count": 25,
   "id": "f62a0a3a",
   "metadata": {},
   "outputs": [
    {
     "name": "stdout",
     "output_type": "stream",
     "text": [
      "[[ -7.   4.   6.  -4.  -2.   4.  -2.  -9.]\n",
      " [  1.  -7. -10.   4.   2.   0.  -9.  -4.]\n",
      " [  0.  10.  -2.  10.   0.  -8.   3.  -5.]\n",
      " [ -8.   7.   3.  -7.  -2.   8.   2.  -5.]\n",
      " [ 10.  -2.   1.  -3.  -3.   1.  -5.   5.]\n",
      " [  2.   2.  10.   7.   2.  -1.  -1.  -1.]\n",
      " [  4.   4.  -2.  -9. -10.  -6.  -5.  -6.]\n",
      " [ -3.  -2.  -7.  -9.  -6.  -7.  -7.   5.]\n",
      " [  3.   9.  -5.   5.  -4.  -5.   7.   7.]\n",
      " [  9.   0.   4.   8.  -9.  -4.   8.  -2.]]\n",
      "Difference (sum): 0.0\n"
     ]
    }
   ],
   "source": [
    "g_float = idaub_5_3_lift_2D(coeff_2D_float, int_flag=False)\n",
    "print(g_float)\n",
    "print('Difference (sum):', np.sum(g-g_float))"
   ]
  },
  {
   "cell_type": "code",
   "execution_count": 27,
   "id": "9d396fa5",
   "metadata": {},
   "outputs": [
    {
     "name": "stdout",
     "output_type": "stream",
     "text": [
      "[[ -7   4   6  -4  -2   4  -2  -9]\n",
      " [  1  -7 -10   4   2   0  -9  -4]\n",
      " [  0  10  -2  10   0  -8   3  -5]\n",
      " [ -8   7   3  -7  -2   8   2  -5]\n",
      " [ 10  -2   1  -3  -3   1  -5   5]\n",
      " [  2   2  10   7   2  -1  -1  -1]\n",
      " [  4   4  -2  -9 -10  -6  -5  -6]\n",
      " [ -3  -2  -7  -9  -6  -7  -7   5]\n",
      " [  3   9  -5   5  -4  -5   7   7]\n",
      " [  9   0   4   8  -9  -4   8  -2]]\n",
      "Difference (sum): 0\n"
     ]
    }
   ],
   "source": [
    "g_int = idaub_5_3_lift_2D(coeff_2D_int, int_flag=True)\n",
    "print(g_int)\n",
    "print('Difference (sum):', np.sum(g-g_int))"
   ]
  },
  {
   "cell_type": "code",
   "execution_count": 30,
   "id": "edcbe5c7",
   "metadata": {},
   "outputs": [
    {
     "name": "stdout",
     "output_type": "stream",
     "text": [
      "2618.0\n",
      "3263.767333984375\n"
     ]
    }
   ],
   "source": [
    "print(np.sum(g.astype(float)**2))\n",
    "print(np.sum(coeff_2D_float.astype(float)**2))"
   ]
  }
 ],
 "metadata": {
  "kernelspec": {
   "display_name": "Python 3",
   "language": "python",
   "name": "python3"
  },
  "language_info": {
   "codemirror_mode": {
    "name": "ipython",
    "version": 3
   },
   "file_extension": ".py",
   "mimetype": "text/x-python",
   "name": "python",
   "nbconvert_exporter": "python",
   "pygments_lexer": "ipython3",
   "version": "3.11.0"
  }
 },
 "nbformat": 4,
 "nbformat_minor": 5
}
