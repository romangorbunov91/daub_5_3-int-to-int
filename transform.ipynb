{
 "cells": [
  {
   "cell_type": "markdown",
   "id": "aa47fd2a",
   "metadata": {},
   "source": [
    "# Daub 5/3 integer-to-integer system"
   ]
  },
  {
   "cell_type": "code",
   "execution_count": 1,
   "id": "6db9f708",
   "metadata": {},
   "outputs": [],
   "source": [
    "import numpy as np\n",
    "import matplotlib.pyplot as plt"
   ]
  },
  {
   "cell_type": "markdown",
   "id": "d2fef9a7",
   "metadata": {},
   "source": [
    "Импорт пользовательских функций."
   ]
  },
  {
   "cell_type": "code",
   "execution_count": 2,
   "id": "864bf95e",
   "metadata": {},
   "outputs": [],
   "source": [
    "from Functions.daub_5_3 import daub_5_3"
   ]
  },
  {
   "cell_type": "code",
   "execution_count": 3,
   "id": "974a847c",
   "metadata": {},
   "outputs": [],
   "source": [
    "#f = [1, -2, 6, 8]\n",
    "f = np.random.randint(low=-10, high=11, size=8)\n",
    "N = len(f)\n",
    "d = [0] * (N//2)\n",
    "a = [0] * (N//2)"
   ]
  },
  {
   "cell_type": "markdown",
   "id": "51bf01d0",
   "metadata": {},
   "source": [
    "Функция преобразования индексов по правилу \"even symmetry\"."
   ]
  },
  {
   "cell_type": "code",
   "execution_count": 4,
   "id": "7f353f73",
   "metadata": {},
   "outputs": [],
   "source": [
    "def indx_even(k,N):\n",
    "    reminder = abs(k) % (2*(N-1))\n",
    "    if reminder <= (N-1):\n",
    "        # rise\n",
    "        return reminder\n",
    "    else:\n",
    "        # fall\n",
    "        return 2*(N-1) - reminder"
   ]
  },
  {
   "cell_type": "markdown",
   "id": "1c75e9be",
   "metadata": {},
   "source": [
    "## Прямое преобразование"
   ]
  },
  {
   "cell_type": "markdown",
   "id": "b2ce279f",
   "metadata": {},
   "source": [
    "Функция вычисления коэффициентов ${d_k}$ (флуктуации)."
   ]
  },
  {
   "cell_type": "code",
   "execution_count": 5,
   "id": "2bb25786",
   "metadata": {},
   "outputs": [],
   "source": [
    "def d_func(k,f,N):\n",
    "    return f[indx_even(2*k+1,N)] - 1/2*(f[indx_even(2*k,N)] + f[indx_even(2*k+2,N)])"
   ]
  },
  {
   "cell_type": "code",
   "execution_count": 6,
   "id": "478ce454",
   "metadata": {},
   "outputs": [
    {
     "name": "stdout",
     "output_type": "stream",
     "text": [
      "a [-12.5, 5.625, 6.5, -0.875]\n",
      "d [-7.0, -6.5, 8.5, 16.0]\n"
     ]
    }
   ],
   "source": [
    "for k in range(N//2):\n",
    "    d[k] = d_func(k,f,N)\n",
    "    a[k] = f[indx_even(2*k,N)] + 1/4*(d_func(k-1,f,N) + d[k])\n",
    "    #a[k] = -1/8*(f[indx_even(2*k-2,N)] + f[indx_even(2*k+2,N)]) + 1/4*(f[indx_even(2*k-1,N)] + f[indx_even(2*k+1,N)]) + 3/4*f[indx_even(2*k,N)]\n",
    "print('a', a)\n",
    "print('d', d)"
   ]
  },
  {
   "cell_type": "markdown",
   "id": "ba3d6602",
   "metadata": {},
   "source": [
    "## Обратное преобразование"
   ]
  },
  {
   "cell_type": "code",
   "execution_count": 7,
   "id": "6540ec96",
   "metadata": {},
   "outputs": [
    {
     "name": "stdout",
     "output_type": "stream",
     "text": [
      "[-9 -7  9  1  6  8 -7  9]\n",
      "[-9.0, -7.0, 9.0, 1.0, 6.0, 8.0, -7.0, 9.0]\n"
     ]
    }
   ],
   "source": [
    "f_rec = [0] * N\n",
    "# Odd values.\n",
    "for k in range(N//2):\n",
    "    f_rec[2*k] = a[k] - 1/4*(d_func(k-1,f,N) + d[k])\n",
    "\n",
    "# Even values.\n",
    "for k in range(N//2):\n",
    "    f_rec[2*k+1] = d[k] + 1/2*(f[2*k] + f[indx_even(2*k+2,N)])\n",
    "print(f)\n",
    "print(f_rec)"
   ]
  },
  {
   "cell_type": "markdown",
   "id": "80b3cc60",
   "metadata": {},
   "source": [
    "## Прямое и обратное преобразование при помощи матричных операций"
   ]
  },
  {
   "cell_type": "code",
   "execution_count": 8,
   "id": "47c270b2",
   "metadata": {},
   "outputs": [
    {
     "name": "stdout",
     "output_type": "stream",
     "text": [
      "Wavelet coefficients: [-12.5, 5.625, 6.5, -0.875, -7.0, -6.5, 8.5, 16.0]\n",
      "Reconstruction: [-9.0, -7.0, 9.0, 1.0, 6.0, 8.0, -7.0, 9.0]\n",
      "Original: [-9 -7  9  1  6  8 -7  9]\n"
     ]
    }
   ],
   "source": [
    "Mdir = np.matrix(np.concatenate(daub_5_3(N), axis = 0))\n",
    "tr = np.matrix(f)*(Mdir.T)\n",
    "Mrev = np.linalg.inv(Mdir).T\n",
    "print('Wavelet coefficients:', tr.tolist()[0])\n",
    "print('Reconstruction:', (tr * Mrev).tolist()[0])\n",
    "print('Original:', f)"
   ]
  },
  {
   "cell_type": "code",
   "execution_count": 9,
   "id": "1d9cb0f1",
   "metadata": {},
   "outputs": [
    {
     "data": {
      "text/plain": [
       "matrix([[ 1.,  0., -0.,  0.,  0.,  0.,  0.,  0.],\n",
       "        [-0.,  0.,  1.,  0., -0.,  0.,  0.,  0.],\n",
       "        [ 0.,  0., -0.,  0.,  1.,  0., -0.,  0.],\n",
       "        [ 0.,  0.,  0.,  0., -0.,  0.,  1.,  0.],\n",
       "        [-0.,  1., -0.,  0.,  0.,  0.,  0.,  0.],\n",
       "        [ 0.,  0., -0.,  1., -0.,  0.,  0.,  0.],\n",
       "        [ 0.,  0.,  0.,  0., -0.,  1., -0.,  0.],\n",
       "        [ 0.,  0.,  0.,  0.,  0.,  0., -1.,  1.]])"
      ]
     },
     "execution_count": 9,
     "metadata": {},
     "output_type": "execute_result"
    }
   ],
   "source": [
    "np.round(Mdir)"
   ]
  }
 ],
 "metadata": {
  "kernelspec": {
   "display_name": "Python 3",
   "language": "python",
   "name": "python3"
  },
  "language_info": {
   "codemirror_mode": {
    "name": "ipython",
    "version": 3
   },
   "file_extension": ".py",
   "mimetype": "text/x-python",
   "name": "python",
   "nbconvert_exporter": "python",
   "pygments_lexer": "ipython3",
   "version": "3.11.0"
  }
 },
 "nbformat": 4,
 "nbformat_minor": 5
}
