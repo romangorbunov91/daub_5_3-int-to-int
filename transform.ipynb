{
 "cells": [
  {
   "cell_type": "markdown",
   "id": "aa47fd2a",
   "metadata": {},
   "source": [
    "# Daub 5/3 integer-to-integer system"
   ]
  },
  {
   "cell_type": "code",
   "execution_count": 1,
   "id": "6db9f708",
   "metadata": {},
   "outputs": [],
   "source": [
    "import numpy as np\n",
    "import matplotlib.pyplot as plt\n",
    "import matplotlib.ticker as ticker"
   ]
  },
  {
   "cell_type": "markdown",
   "id": "d2fef9a7",
   "metadata": {},
   "source": [
    "Импорт пользовательских функций."
   ]
  },
  {
   "cell_type": "code",
   "execution_count": 2,
   "id": "864bf95e",
   "metadata": {},
   "outputs": [],
   "source": [
    "from Functions.user_functions import indx_even\n",
    "from Functions.daub_5_3 import daub_5_3\n",
    "from Functions.daub_5_3_lift import daub_5_3_lift\n",
    "from Functions.idaub_5_3_lift import idaub_5_3_lift\n",
    "from Functions.daub_5_3_lift_2D import daub_5_3_lift_2D\n",
    "from Functions.idaub_5_3_lift_2D import idaub_5_3_lift_2D"
   ]
  },
  {
   "cell_type": "code",
   "execution_count": 3,
   "id": "974a847c",
   "metadata": {},
   "outputs": [],
   "source": [
    "f = np.random.randint(low=-10, high=11, size=8)\n",
    "N = len(f)\n",
    "d = [0] * (N//2)\n",
    "a = [0] * (N//2)"
   ]
  },
  {
   "cell_type": "markdown",
   "id": "421f5198",
   "metadata": {},
   "source": [
    "### Исследование коэффициентов ${d}$"
   ]
  },
  {
   "cell_type": "code",
   "execution_count": 4,
   "id": "f27a9e6c",
   "metadata": {},
   "outputs": [],
   "source": [
    "# Функция вычисления коэффициентов флуктуации.\n",
    "def d_func(k, f, N, int_flag):\n",
    "    if int_flag:\n",
    "        return f[indx_even(2*k+1,N)] - (f[indx_even(2*k,N)] + f[indx_even(2*k+2,N)]) //2\n",
    "    else:\n",
    "        return f[indx_even(2*k+1,N)] - (f[indx_even(2*k,N)] + f[indx_even(2*k+2,N)]) /2"
   ]
  },
  {
   "cell_type": "code",
   "execution_count": 5,
   "id": "25328f6a",
   "metadata": {},
   "outputs": [
    {
     "data": {
      "image/png": "[encoded data removed]",
      "text/plain": [
       "<Figure size 1200x300 with 1 Axes>"
      ]
     },
     "metadata": {},
     "output_type": "display_data"
    }
   ],
   "source": [
    "n_gr = []\n",
    "d_gr = []\n",
    "for k in range(-N,2*N):\n",
    "    n_gr.append(k)\n",
    "    d_gr.append(d_func(k, f, N, int_flag=False))\n",
    "n_gr_N = []\n",
    "d_gr_N = []\n",
    "\n",
    "for k in range(N):\n",
    "    n_gr_N.append(k)\n",
    "    d_gr_N.append(d_func(k, f, N, int_flag=False))\n",
    "    \n",
    "fig, ax = plt.subplots()\n",
    "fig.set_figheight(3)\n",
    "fig.set_figwidth(12)\n",
    "ax.plot(n_gr, d_gr, 'o')\n",
    "ax.plot(n_gr_N, d_gr_N, 'o')\n",
    "\n",
    "# Force integer ticks on x-axis\n",
    "ax.xaxis.set_major_locator(ticker.MaxNLocator(integer=True))\n",
    "plt.legend(['$k \\in \\mathbb{Z}$','k=[0;(N-1)]'])\n",
    "plt.title('Симметрия коэффициентов флуктуаций' + ' (N=' + str(N) + ')')\n",
    "plt.xlabel('k')\n",
    "plt.ylabel('$d_k$')\n",
    "plt.grid(True)\n",
    "plt.savefig('readme_img/d_symmetry.png', bbox_inches='tight')\n",
    "plt.show()"
   ]
  },
  {
   "cell_type": "markdown",
   "id": "22cda11b",
   "metadata": {},
   "source": [
    "Отсюда вывод: ${d_{-1} = d_0}$."
   ]
  },
  {
   "cell_type": "markdown",
   "id": "db5b29f2",
   "metadata": {},
   "source": [
    "## Прямое преобразование"
   ]
  },
  {
   "cell_type": "code",
   "execution_count": 6,
   "id": "478ce454",
   "metadata": {},
   "outputs": [
    {
     "name": "stdout",
     "output_type": "stream",
     "text": [
      "a [12.5, -0.375, -6.875, 0.25]\n",
      "d [9.0, 13.5, -5.0, 2.0]\n"
     ]
    }
   ],
   "source": [
    "for k in range(N//2):\n",
    "    d[k] = f[indx_even(2*k+1,N)] - (f[indx_even(2*k,N)] + f[indx_even(2*k+2,N)])/2\n",
    "    if k == 0:\n",
    "        a[k] = f[indx_even(2*k,N)] + d[k] /2\n",
    "    else:\n",
    "        a[k] = f[indx_even(2*k,N)] + (d[k-1] + d[k]) /4\n",
    "    #a[k] = -1/8*(f[indx_even(2*k-2,N)] + f[indx_even(2*k+2,N)]) + 1/4*(f[indx_even(2*k-1,N)] + f[indx_even(2*k+1,N)]) + 3/4*f[indx_even(2*k,N)]\n",
    "print('a', a)\n",
    "print('d', d)"
   ]
  },
  {
   "cell_type": "markdown",
   "id": "ba3d6602",
   "metadata": {},
   "source": [
    "## Обратное преобразование"
   ]
  },
  {
   "cell_type": "code",
   "execution_count": 7,
   "id": "6540ec96",
   "metadata": {},
   "outputs": [
    {
     "name": "stdout",
     "output_type": "stream",
     "text": [
      "Reconstruction: [8.0, 10.0, -6.0, 6.0, -9.0, -9.0, 1.0, 3.0]\n",
      "Original: [ 8 10 -6  6 -9 -9  1  3]\n",
      "Difference: [0. 0. 0. 0. 0. 0. 0. 0.]\n"
     ]
    }
   ],
   "source": [
    "f_rec = [0] * N\n",
    "# Odd values.\n",
    "for k in range(N//2):\n",
    "    if k == 0:\n",
    "        f_rec[2*k] = a[k] - d[k] /2\n",
    "    else:\n",
    "        f_rec[2*k] = a[k] - (d[k-1] + d[k]) /4\n",
    "\n",
    "# Even values.\n",
    "for k in range(N//2):\n",
    "    f_rec[2*k+1] = d[k] + (f[2*k] + f[indx_even(2*k+2,N)])/2\n",
    "print('Reconstruction:', f_rec)\n",
    "print('Original:', f)\n",
    "print('Difference:', f-f_rec)"
   ]
  },
  {
   "cell_type": "markdown",
   "id": "80b3cc60",
   "metadata": {},
   "source": [
    "## Прямое и обратное преобразование при помощи матричных операций"
   ]
  },
  {
   "cell_type": "code",
   "execution_count": 8,
   "id": "47c270b2",
   "metadata": {},
   "outputs": [
    {
     "name": "stdout",
     "output_type": "stream",
     "text": [
      "Wavelet coefficients: [12.5, -0.375, -6.875, 0.25, 9.0, 13.5, -5.0, 2.0]\n",
      "Reconstruction: [8.0, 10.0, -6.0, 6.0, -9.0, -9.0, 1.0, 3.0]\n",
      "Original: [ 8 10 -6  6 -9 -9  1  3]\n",
      "Difference: [0. 0. 0. 0. 0. 0. 0. 0.]\n"
     ]
    }
   ],
   "source": [
    "Mdir = np.matrix(np.concatenate(daub_5_3(N), axis = 0))\n",
    "tr = np.matrix(f)*(Mdir.T)\n",
    "Mrev = np.linalg.inv(Mdir).T\n",
    "print('Wavelet coefficients:', tr.tolist()[0])\n",
    "print('Reconstruction:', (tr * Mrev).tolist()[0])\n",
    "print('Original:', f)\n",
    "print('Difference:', f-(tr * Mrev).tolist()[0])"
   ]
  },
  {
   "cell_type": "markdown",
   "id": "8db114f7",
   "metadata": {},
   "source": [
    "## Целочисленные преобразования"
   ]
  },
  {
   "cell_type": "markdown",
   "id": "708078ff",
   "metadata": {},
   "source": [
    "Созданы функции lifting-преобразования."
   ]
  },
  {
   "cell_type": "code",
   "execution_count": 9,
   "id": "c2fabd6f",
   "metadata": {},
   "outputs": [
    {
     "name": "stdout",
     "output_type": "stream",
     "text": [
      "[12.5   -0.375 -6.875  0.25   9.    13.5   -5.     2.   ]\n",
      "[13  0 -7  0  9 13 -5  2]\n"
     ]
    }
   ],
   "source": [
    "# float-преобразование.\n",
    "coeff_float = daub_5_3_lift(f, int_flag=False)\n",
    "print(coeff_float)\n",
    "\n",
    "# int-преобразование.\n",
    "coeff_int = daub_5_3_lift(f, int_flag=True)\n",
    "print(coeff_int)"
   ]
  },
  {
   "cell_type": "markdown",
   "id": "0d6608fb",
   "metadata": {},
   "source": [
    "Обратное преобразование, также по lifting-схеме."
   ]
  },
  {
   "cell_type": "code",
   "execution_count": 10,
   "id": "b9ded8a4",
   "metadata": {},
   "outputs": [
    {
     "name": "stdout",
     "output_type": "stream",
     "text": [
      "float64\n",
      "[8.0, 10.0, -6.0, 6.0, -9.0, -9.0, 1.0, 3.0]\n",
      "int32\n",
      "[8, 10, -6, 6, -9, -9, 1, 3]\n",
      "Difference: [0.0, 0.0, 0.0, 0.0, 0.0, 0.0, 0.0, 0.0]\n"
     ]
    }
   ],
   "source": [
    "# float-преобразование.\n",
    "f_float = idaub_5_3_lift(coeff_float, int_flag=False)\n",
    "print(np.array(f_float).dtype)\n",
    "print(f_float)\n",
    "\n",
    "# int-преобразование.\n",
    "f_int = idaub_5_3_lift(coeff_int, int_flag=True)\n",
    "print(np.array(f_int).dtype)\n",
    "print(f_int)\n",
    "\n",
    "print('Difference:', [a - b for a, b in zip(f_float, f_int)])"
   ]
  },
  {
   "cell_type": "markdown",
   "id": "bdf8b505",
   "metadata": {},
   "source": [
    "## 2D-преобразование"
   ]
  },
  {
   "cell_type": "markdown",
   "id": "bb060a85",
   "metadata": {},
   "source": [
    "Формируем двумерный массив."
   ]
  },
  {
   "cell_type": "code",
   "execution_count": 11,
   "id": "c772f781",
   "metadata": {},
   "outputs": [
    {
     "name": "stdout",
     "output_type": "stream",
     "text": [
      "[[ -3   0   1  -5   0  -5  -4  -3]\n",
      " [ -8  -6  -9   4   4   6   0  10]\n",
      " [  7  -8   6  10  -2   9   5  10]\n",
      " [  5  -9   7   6  -2   2   3  -8]\n",
      " [ -3  -2 -10  10   7  -2  -5   9]\n",
      " [  2  -6   8   5   5 -10  -5   1]\n",
      " [  0  -7   7   1   4   0   5   8]\n",
      " [  3  -1  -7  -7   0   9   8   9]\n",
      " [ -4  -9   7   6   7   3  -9  -1]\n",
      " [ -2   6   6  -8  -9   2  -1  -2]]\n"
     ]
    }
   ],
   "source": [
    "g = np.random.randint(low=-10, high=11, size=10*8).reshape(10,8)\n",
    "print(g)"
   ]
  },
  {
   "cell_type": "markdown",
   "id": "1dbdc1df",
   "metadata": {},
   "source": [
    "### Прямое преобразование"
   ]
  },
  {
   "cell_type": "code",
   "execution_count": 12,
   "id": "7d65bff0",
   "metadata": {},
   "outputs": [
    {
     "name": "stdout",
     "output_type": "stream",
     "text": [
      "float64\n",
      "[[  4.25       6.625     -8.75      -8.        -1.5      -12.\n",
      "   -7.        -9.      ]\n",
      " [  4.375      5.6875    -1.0625     6.0625    -8.25       3.\n",
      "    4.75       5.5     ]\n",
      " [  2.25     -10.5        8.4375     0.4375    17.5       10.5\n",
      "    1.25      16.5     ]\n",
      " [ -5.25       4.625      0.5        2.875     -5.5       -2.\n",
      "   -2.        -0.5     ]\n",
      " [-11.         5.25      12.       -11.       -13.         4.\n",
      "   -2.         8.      ]\n",
      " [ -4.59375   -3.671875   4.171875   3.015625   0.0625     4.25\n",
      "    3.4375     9.125   ]\n",
      " [ -0.84375    2.921875   1.09375    2.25     -12.6875     6.875\n",
      "    3.        -5.5     ]\n",
      " [ -4.25       3.40625    4.359375  -5.171875  -8.         0.625\n",
      "  -10.1875    10.      ]\n",
      " [ -0.5625    -5.15625    3.5        7.46875   -3.625     -3.\n",
      "    4.         2.875   ]\n",
      " [ -5.5        8.        -2.875     -5.        -2.5       -4.5\n",
      "    6.         3.      ]]\n"
     ]
    }
   ],
   "source": [
    "# float-преобразование.\n",
    "coeff_2D_float = daub_5_3_lift_2D(g, int_flag=False)\n",
    "print(coeff_2D_float.dtype)\n",
    "print(coeff_2D_float)"
   ]
  },
  {
   "cell_type": "code",
   "execution_count": 13,
   "id": "c7f6a497",
   "metadata": {},
   "outputs": [
    {
     "name": "stdout",
     "output_type": "stream",
     "text": [
      "int32\n",
      "[[  5   7  -9  -8  -1 -12  -7  -9]\n",
      " [  4   5  -1   5  -9   3   4   5]\n",
      " [  1 -11   8   0  17  10   1  16]\n",
      " [ -6   4   1   3  -6  -2  -3  -1]\n",
      " [-11   5  12 -12 -14   4  -2   8]\n",
      " [ -5  -4   5   3   0   4   3   9]\n",
      " [ -1   3   1   2 -13   6   2  -6]\n",
      " [ -4   3   4  -5  -8   0 -10  10]\n",
      " [  0  -6   3   8  -4  -3   4   3]\n",
      " [ -5   8  -3  -5  -3  -5   6   3]]\n"
     ]
    }
   ],
   "source": [
    "# int-преобразование.\n",
    "coeff_2D_int = daub_5_3_lift_2D(g, int_flag=True)\n",
    "print(coeff_2D_int.dtype)\n",
    "print(coeff_2D_int)"
   ]
  },
  {
   "cell_type": "code",
   "execution_count": 14,
   "id": "2407ca6b",
   "metadata": {},
   "outputs": [
    {
     "name": "stdout",
     "output_type": "stream",
     "text": [
      "2907.0\n",
      "3482.0\n"
     ]
    }
   ],
   "source": [
    "print(np.sum(g.astype(float)**2))\n",
    "print(np.sum(coeff_2D_int.astype(float)**2))"
   ]
  },
  {
   "cell_type": "markdown",
   "id": "14b59d65",
   "metadata": {},
   "source": [
    "### Обратное преобразование"
   ]
  },
  {
   "cell_type": "code",
   "execution_count": 15,
   "id": "f62a0a3a",
   "metadata": {},
   "outputs": [
    {
     "name": "stdout",
     "output_type": "stream",
     "text": [
      "[[ -3.   0.   1.  -5.   0.  -5.  -4.  -3.]\n",
      " [ -8.  -6.  -9.   4.   4.   6.   0.  10.]\n",
      " [  7.  -8.   6.  10.  -2.   9.   5.  10.]\n",
      " [  5.  -9.   7.   6.  -2.   2.   3.  -8.]\n",
      " [ -3.  -2. -10.  10.   7.  -2.  -5.   9.]\n",
      " [  2.  -6.   8.   5.   5. -10.  -5.   1.]\n",
      " [  0.  -7.   7.   1.   4.   0.   5.   8.]\n",
      " [  3.  -1.  -7.  -7.   0.   9.   8.   9.]\n",
      " [ -4.  -9.   7.   6.   7.   3.  -9.  -1.]\n",
      " [ -2.   6.   6.  -8.  -9.   2.  -1.  -2.]]\n",
      "Difference (sum): 0.0\n"
     ]
    }
   ],
   "source": [
    "g_float = idaub_5_3_lift_2D(coeff_2D_float, int_flag=False)\n",
    "print(g_float)\n",
    "print('Difference (sum):', np.sum((g-g_float)**2))"
   ]
  },
  {
   "cell_type": "code",
   "execution_count": 16,
   "id": "9d396fa5",
   "metadata": {},
   "outputs": [
    {
     "name": "stdout",
     "output_type": "stream",
     "text": [
      "[[ -3   0   1  -5   0  -5  -4  -3]\n",
      " [ -8  -6  -9   4   4   6   0  10]\n",
      " [  7  -8   6  10  -2   9   5  10]\n",
      " [  5  -9   7   6  -2   2   3  -8]\n",
      " [ -3  -2 -10  10   7  -2  -5   9]\n",
      " [  2  -6   8   5   5 -10  -5   1]\n",
      " [  0  -7   7   1   4   0   5   8]\n",
      " [  3  -1  -7  -7   0   9   8   9]\n",
      " [ -4  -9   7   6   7   3  -9  -1]\n",
      " [ -2   6   6  -8  -9   2  -1  -2]]\n",
      "Difference (sum): 0.0\n"
     ]
    }
   ],
   "source": [
    "g_int = idaub_5_3_lift_2D(coeff_2D_int, int_flag=True)\n",
    "print(g_int)\n",
    "print('Difference (sum):', np.sum((g-g_int).astype(float)**2))"
   ]
  }
 ],
 "metadata": {
  "kernelspec": {
   "display_name": "Python 3",
   "language": "python",
   "name": "python3"
  },
  "language_info": {
   "codemirror_mode": {
    "name": "ipython",
    "version": 3
   },
   "file_extension": ".py",
   "mimetype": "text/x-python",
   "name": "python",
   "nbconvert_exporter": "python",
   "pygments_lexer": "ipython3",
   "version": "3.11.0"
  }
 },
 "nbformat": 4,
 "nbformat_minor": 5
}
